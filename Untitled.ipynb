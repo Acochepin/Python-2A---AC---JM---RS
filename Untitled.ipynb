{
 "cells": [
  {
   "cell_type": "code",
   "execution_count": 1,
   "id": "e93e723f-039f-48e6-8d39-a4a3a0f5db59",
   "metadata": {},
   "outputs": [
    {
     "name": "stdout",
     "output_type": "stream",
     "text": [
      "Collecting pathlib2\n",
      "  Downloading pathlib2-2.3.7.post1-py2.py3-none-any.whl (18 kB)\n",
      "Requirement already satisfied: six in /opt/mamba/lib/python3.10/site-packages (from pathlib2) (1.16.0)\n",
      "Installing collected packages: pathlib2\n",
      "Successfully installed pathlib2-2.3.7.post1\n",
      "Collecting python-Levenshtein\n",
      "  Downloading python_Levenshtein-0.20.8-py3-none-any.whl (9.4 kB)\n",
      "Collecting Levenshtein==0.20.8\n",
      "  Downloading Levenshtein-0.20.8-cp310-cp310-manylinux_2_17_x86_64.manylinux2014_x86_64.whl (174 kB)\n",
      "\u001b[2K     \u001b[90m━━━━━━━━━━━━━━━━━━━━━━━━━━━━━━━━━━━━━━━\u001b[0m \u001b[32m174.1/174.1 kB\u001b[0m \u001b[31m6.5 MB/s\u001b[0m eta \u001b[36m0:00:00\u001b[0m\n",
      "\u001b[?25hCollecting rapidfuzz<3.0.0,>=2.3.0\n",
      "  Downloading rapidfuzz-2.13.2-cp310-cp310-manylinux_2_17_x86_64.manylinux2014_x86_64.whl (2.2 MB)\n",
      "\u001b[2K     \u001b[90m━━━━━━━━━━━━━━━━━━━━━━━━━━━━━━━━━━━━━━━━\u001b[0m \u001b[32m2.2/2.2 MB\u001b[0m \u001b[31m30.6 MB/s\u001b[0m eta \u001b[36m0:00:00\u001b[0ma \u001b[36m0:00:01\u001b[0m\n",
      "\u001b[?25hInstalling collected packages: rapidfuzz, Levenshtein, python-Levenshtein\n",
      "Successfully installed Levenshtein-0.20.8 python-Levenshtein-0.20.8 rapidfuzz-2.13.2\n",
      "Collecting xlrd\n",
      "  Downloading xlrd-2.0.1-py2.py3-none-any.whl (96 kB)\n",
      "\u001b[2K     \u001b[90m━━━━━━━━━━━━━━━━━━━━━━━━━━━━━━━━━━━━━━━━\u001b[0m \u001b[32m96.5/96.5 kB\u001b[0m \u001b[31m5.2 MB/s\u001b[0m eta \u001b[36m0:00:00\u001b[0m\n",
      "\u001b[?25hInstalling collected packages: xlrd\n",
      "Successfully installed xlrd-2.0.1\n",
      "Collecting git+https://github.com/InseeFrLab/Py-Insee-Data.git\n",
      "  Cloning https://github.com/InseeFrLab/Py-Insee-Data.git to /tmp/pip-req-build-vomhphn1\n",
      "  Running command git clone --filter=blob:none --quiet https://github.com/InseeFrLab/Py-Insee-Data.git /tmp/pip-req-build-vomhphn1\n",
      "  Resolved https://github.com/InseeFrLab/Py-Insee-Data.git to commit 65b6e9042903aa55157757f5034a5a6260f1fe17\n",
      "  Installing build dependencies ... \u001b[?25ldone\n",
      "\u001b[?25h  Getting requirements to build wheel ... \u001b[?25ldone\n",
      "\u001b[?25h  Preparing metadata (pyproject.toml) ... \u001b[?25ldone\n",
      "\u001b[?25hRequirement already satisfied: urllib3 in /opt/mamba/lib/python3.10/site-packages (from pynsee==0.1.1) (1.26.11)\n",
      "Collecting appdirs>=1.4.4\n",
      "  Downloading appdirs-1.4.4-py2.py3-none-any.whl (9.6 kB)\n",
      "Requirement already satisfied: pandas>=0.24.2 in /opt/mamba/lib/python3.10/site-packages (from pynsee==0.1.1) (1.5.1)\n",
      "Requirement already satisfied: shapely<2.0,>=1.8.0 in /opt/mamba/lib/python3.10/site-packages (from pynsee==0.1.1) (1.8.5.post1)\n",
      "Collecting pathlib\n",
      "  Downloading pathlib-1.0.1-py3-none-any.whl (14 kB)\n",
      "Collecting unidecode>=1.1.0\n",
      "  Downloading Unidecode-1.3.6-py3-none-any.whl (235 kB)\n",
      "\u001b[2K     \u001b[90m━━━━━━━━━━━━━━━━━━━━━━━━━━━━━━━━━━━━━━━\u001b[0m \u001b[32m235.9/235.9 kB\u001b[0m \u001b[31m7.6 MB/s\u001b[0m eta \u001b[36m0:00:00\u001b[0m\n",
      "\u001b[?25hRequirement already satisfied: tqdm>=4.56.0 in /opt/mamba/lib/python3.10/site-packages (from pynsee==0.1.1) (4.64.1)\n",
      "Requirement already satisfied: requests>=2.23 in /opt/mamba/lib/python3.10/site-packages (from pynsee==0.1.1) (2.28.1)\n",
      "Requirement already satisfied: python-dateutil>=2.8.1 in /opt/mamba/lib/python3.10/site-packages (from pandas>=0.24.2->pynsee==0.1.1) (2.8.2)\n",
      "Requirement already satisfied: pytz>=2020.1 in /opt/mamba/lib/python3.10/site-packages (from pandas>=0.24.2->pynsee==0.1.1) (2022.6)\n",
      "Requirement already satisfied: numpy>=1.21.0 in /opt/mamba/lib/python3.10/site-packages (from pandas>=0.24.2->pynsee==0.1.1) (1.23.5)\n",
      "Requirement already satisfied: certifi>=2017.4.17 in /opt/mamba/lib/python3.10/site-packages (from requests>=2.23->pynsee==0.1.1) (2022.9.24)\n",
      "Requirement already satisfied: charset-normalizer<3,>=2 in /opt/mamba/lib/python3.10/site-packages (from requests>=2.23->pynsee==0.1.1) (2.1.1)\n",
      "Requirement already satisfied: idna<4,>=2.5 in /opt/mamba/lib/python3.10/site-packages (from requests>=2.23->pynsee==0.1.1) (3.4)\n",
      "Requirement already satisfied: six>=1.5 in /opt/mamba/lib/python3.10/site-packages (from python-dateutil>=2.8.1->pandas>=0.24.2->pynsee==0.1.1) (1.16.0)\n",
      "Building wheels for collected packages: pynsee\n",
      "  Building wheel for pynsee (pyproject.toml) ... \u001b[?25ldone\n",
      "\u001b[?25h  Created wheel for pynsee: filename=pynsee-0.1.1-py3-none-any.whl size=9806223 sha256=f95f23446f497ce0a747c592f18f90960f1a9b3e1c59675ba3c8939f1cafa6b4\n",
      "  Stored in directory: /tmp/pip-ephem-wheel-cache-6_4uafoj/wheels/d5/60/69/031da6e25434c8b85e049f8f93ed11c2bfe3da9369f7a1dfba\n",
      "Successfully built pynsee\n",
      "Installing collected packages: pathlib, appdirs, unidecode, pynsee\n",
      "Successfully installed appdirs-1.4.4 pathlib-1.0.1 pynsee-0.1.1 unidecode-1.3.6\n"
     ]
    }
   ],
   "source": [
    "!pip install pathlib2\n",
    "!pip install python-Levenshtein\n",
    "!pip install --upgrade xlrd\n",
    "!pip install git+https://github.com/InseeFrLab/Py-Insee-Data.git\n"
   ]
  },
  {
   "cell_type": "code",
   "execution_count": 3,
   "id": "eb7d34c9-02a4-46a7-b8e6-2104b17e7712",
   "metadata": {},
   "outputs": [],
   "source": [
    "import requests\n",
    "url = 'https://github.com/InseeFrLab/Py-Insee-Data/archive/refs/heads/master.zip'\n",
    "r = requests.get(url)\n",
    "with open(\"pynsee.zip\" , 'wb') as zipfile:\n",
    "    zipfile.write(r.content)\n"
   ]
  },
  {
   "cell_type": "code",
   "execution_count": 8,
   "id": "e405e90a-a977-44f0-9805-e3d4fd3ac404",
   "metadata": {},
   "outputs": [
    {
     "name": "stdout",
     "output_type": "stream",
     "text": [
      "Processing ./pynsee.zip\n",
      "  Installing build dependencies ... \u001b[?25ldone\n",
      "\u001b[?25h  Getting requirements to build wheel ... \u001b[?25ldone\n",
      "\u001b[?25h  Preparing metadata (pyproject.toml) ... \u001b[?25ldone\n",
      "\u001b[?25hCollecting shapely<2.0,>=1.8.0\n",
      "  Using cached Shapely-1.8.5.post1-cp310-cp310-manylinux_2_12_x86_64.manylinux2010_x86_64.whl (2.0 MB)\n",
      "Collecting requests>=2.23\n",
      "  Using cached requests-2.28.1-py3-none-any.whl (62 kB)\n",
      "Collecting pandas>=0.24.2\n",
      "  Using cached pandas-1.5.2-cp310-cp310-manylinux_2_17_x86_64.manylinux2014_x86_64.whl (12.1 MB)\n",
      "Collecting unidecode>=1.1.0\n",
      "  Using cached Unidecode-1.3.6-py3-none-any.whl (235 kB)\n",
      "Collecting pathlib\n",
      "  Using cached pathlib-1.0.1-py3-none-any.whl (14 kB)\n",
      "Collecting appdirs>=1.4.4\n",
      "  Using cached appdirs-1.4.4-py2.py3-none-any.whl (9.6 kB)\n",
      "Collecting urllib3\n",
      "  Using cached urllib3-1.26.13-py2.py3-none-any.whl (140 kB)\n",
      "Collecting tqdm>=4.56.0\n",
      "  Using cached tqdm-4.64.1-py2.py3-none-any.whl (78 kB)\n",
      "Collecting pytz>=2020.1\n",
      "  Using cached pytz-2022.6-py2.py3-none-any.whl (498 kB)\n",
      "Collecting python-dateutil>=2.8.1\n",
      "  Using cached python_dateutil-2.8.2-py2.py3-none-any.whl (247 kB)\n",
      "Collecting numpy>=1.21.0\n",
      "  Using cached numpy-1.23.5-cp310-cp310-manylinux_2_17_x86_64.manylinux2014_x86_64.whl (17.1 MB)\n",
      "Collecting charset-normalizer<3,>=2\n",
      "  Using cached charset_normalizer-2.1.1-py3-none-any.whl (39 kB)\n",
      "Collecting idna<4,>=2.5\n",
      "  Using cached idna-3.4-py3-none-any.whl (61 kB)\n",
      "Collecting certifi>=2017.4.17\n",
      "  Using cached certifi-2022.9.24-py3-none-any.whl (161 kB)\n",
      "Collecting six>=1.5\n",
      "  Using cached six-1.16.0-py2.py3-none-any.whl (11 kB)\n",
      "Building wheels for collected packages: pynsee\n",
      "  Building wheel for pynsee (pyproject.toml) ... \u001b[?25ldone\n",
      "\u001b[?25h  Created wheel for pynsee: filename=pynsee-0.1.1-py3-none-any.whl size=9806223 sha256=c6a0cba8d9ce3dcf89ad2b737c469694b8a856b6b1b492a924b6a682bdc002c1\n",
      "  Stored in directory: /tmp/pip-ephem-wheel-cache-1tfd0a0i/wheels/d9/ab/f9/ef7a559f8aeedffdd454f426e699fdf71344e0627dc30f0970\n",
      "Successfully built pynsee\n",
      "Installing collected packages: pytz, pathlib, appdirs, urllib3, unidecode, tqdm, six, shapely, numpy, idna, charset-normalizer, certifi, requests, python-dateutil, pandas, pynsee\n",
      "Successfully installed appdirs-1.4.4 certifi-2022.9.24 charset-normalizer-2.1.1 idna-3.4 numpy-1.23.5 pandas-1.5.2 pathlib-1.0.1 pynsee-0.1.1 python-dateutil-2.8.2 pytz-2022.6 requests-2.28.1 shapely-1.8.5.post1 six-1.16.0 tqdm-4.64.1 unidecode-1.3.6 urllib3-1.26.13\n",
      "Requirement already satisfied: python-Levenshtein in /opt/mamba/lib/python3.10/site-packages (0.20.8)\n",
      "Requirement already satisfied: Levenshtein==0.20.8 in /opt/mamba/lib/python3.10/site-packages (from python-Levenshtein) (0.20.8)\n",
      "Requirement already satisfied: rapidfuzz<3.0.0,>=2.3.0 in /opt/mamba/lib/python3.10/site-packages (from Levenshtein==0.20.8->python-Levenshtein) (2.13.2)\n",
      "Collecting openpyxl\n",
      "  Downloading openpyxl-3.0.10-py2.py3-none-any.whl (242 kB)\n",
      "\u001b[2K     \u001b[90m━━━━━━━━━━━━━━━━━━━━━━━━━━━━━━━━━━━━━━━\u001b[0m \u001b[32m242.1/242.1 kB\u001b[0m \u001b[31m7.2 MB/s\u001b[0m eta \u001b[36m0:00:00\u001b[0m\n",
      "\u001b[?25hCollecting et-xmlfile\n",
      "  Downloading et_xmlfile-1.1.0-py3-none-any.whl (4.7 kB)\n",
      "Installing collected packages: et-xmlfile, openpyxl\n",
      "Successfully installed et-xmlfile-1.1.0 openpyxl-3.0.10\n"
     ]
    }
   ],
   "source": [
    "!pip install --ignore-installed pynsee.zip\n",
    "!pip install python-Levenshtein\n",
    "!pip install openpyxl\n"
   ]
  },
  {
   "cell_type": "code",
   "execution_count": 5,
   "id": "8690096e-121c-44b8-b915-71093bb0d018",
   "metadata": {},
   "outputs": [],
   "source": [
    "import numpy as np\n",
    "import pandas as pd\n",
    "import matplotlib.pyplot as plt\n",
    "import pynsee.download\n"
   ]
  },
  {
   "cell_type": "code",
   "execution_count": 27,
   "id": "4f70681b-deda-4eaa-ba1a-3869a6296fc6",
   "metadata": {},
   "outputs": [
    {
     "data": {
      "text/plain": [
       "0       0040003G\n",
       "1       0040027H\n",
       "2       0040490L\n",
       "3       0040010P\n",
       "4       0040533H\n",
       "          ...   \n",
       "2311    0782567S\n",
       "2312    0783351U\n",
       "2313    0783350T\n",
       "2314    0781952Y\n",
       "2315    0782587N\n",
       "Name: (Informations établissement, UAI), Length: 2316, dtype: object"
      ]
     },
     "execution_count": 27,
     "metadata": {},
     "output_type": "execute_result"
    }
   ],
   "source": [
    "#file_name = \"ival-2021---complet-xlsx-112652.xlsx\"\n",
    "df = pd.read_excel (\"ival-2021---complet-xlsx-112652.xlsx\", header = [0,1])\n",
    "#print(df.head())\n",
    "\n",
    "df.loc[:,(\"Informations établissement\", \"UAI\")]"
   ]
  },
  {
   "cell_type": "code",
   "execution_count": 19,
   "id": "9a77e6f7-f051-47a0-ac57-e15b458b21c1",
   "metadata": {},
   "outputs": [
    {
     "data": {
      "text/html": [
       "<div>\n",
       "<style scoped>\n",
       "    .dataframe tbody tr th:only-of-type {\n",
       "        vertical-align: middle;\n",
       "    }\n",
       "\n",
       "    .dataframe tbody tr th {\n",
       "        vertical-align: top;\n",
       "    }\n",
       "\n",
       "    .dataframe thead th {\n",
       "        text-align: right;\n",
       "    }\n",
       "</style>\n",
       "<table border=\"1\" class=\"dataframe\">\n",
       "  <thead>\n",
       "    <tr style=\"text-align: right;\">\n",
       "      <th></th>\n",
       "      <th>Informations établissement;;;;;;;Nombre d'élèves présents au Bac;;;;;;;;;Taux de réussite bruts;;;;;;;;;Taux de réussite attendus;;;;;;;;;Valeur ajoutée du taux de réussite;;;;;;;;;Taux de mentions bruts;;;;;;;;;Taux de mentions attendus;;;;;;;;;Valeur ajoutée de taux de mentions;;;;;;;;;Effectifs à la rentrée 2021;;;Taux d'accès bruts;;;Taux d'accès attendus;;;Valeur ajoutée du taux d'accès;;</th>\n",
       "    </tr>\n",
       "  </thead>\n",
       "  <tbody>\n",
       "    <tr>\n",
       "      <th>0</th>\n",
       "      <td>Académie;Département;Etablissement;Ville;UAI;C...</td>\n",
       "    </tr>\n",
       "    <tr>\n",
       "      <th>1</th>\n",
       "      <td>AIX-MARSEILLE;ALPES DE HTE PROVENCE;LYCEE ANDR...</td>\n",
       "    </tr>\n",
       "    <tr>\n",
       "      <th>2</th>\n",
       "      <td>AIX-MARSEILLE;ALPES DE HTE PROVENCE;LYCEE ALEX...</td>\n",
       "    </tr>\n",
       "    <tr>\n",
       "      <th>3</th>\n",
       "      <td>AIX-MARSEILLE;ALPES DE HTE PROVENCE;LYCEE PIER...</td>\n",
       "    </tr>\n",
       "    <tr>\n",
       "      <th>4</th>\n",
       "      <td>AIX-MARSEILLE;ALPES DE HTE PROVENCE;LYCEE FELI...</td>\n",
       "    </tr>\n",
       "  </tbody>\n",
       "</table>\n",
       "</div>"
      ],
      "text/plain": [
       "  Informations établissement;;;;;;;Nombre d'élèves présents au Bac;;;;;;;;;Taux de réussite bruts;;;;;;;;;Taux de réussite attendus;;;;;;;;;Valeur ajoutée du taux de réussite;;;;;;;;;Taux de mentions bruts;;;;;;;;;Taux de mentions attendus;;;;;;;;;Valeur ajoutée de taux de mentions;;;;;;;;;Effectifs à la rentrée 2021;;;Taux d'accès bruts;;;Taux d'accès attendus;;;Valeur ajoutée du taux d'accès;;\n",
       "0  Académie;Département;Etablissement;Ville;UAI;C...                                                                                                                                                                                                                                                                                                                                                          \n",
       "1  AIX-MARSEILLE;ALPES DE HTE PROVENCE;LYCEE ANDR...                                                                                                                                                                                                                                                                                                                                                          \n",
       "2  AIX-MARSEILLE;ALPES DE HTE PROVENCE;LYCEE ALEX...                                                                                                                                                                                                                                                                                                                                                          \n",
       "3  AIX-MARSEILLE;ALPES DE HTE PROVENCE;LYCEE PIER...                                                                                                                                                                                                                                                                                                                                                          \n",
       "4  AIX-MARSEILLE;ALPES DE HTE PROVENCE;LYCEE FELI...                                                                                                                                                                                                                                                                                                                                                          "
      ]
     },
     "execution_count": 19,
     "metadata": {},
     "output_type": "execute_result"
    }
   ],
   "source": [
    "\"\"\"\n",
    "import csv\n",
    "f = open (\"ival-2021---complet-xlsx-112652.csv\")\n",
    "myReader = csv.reader(f)\n",
    "for row in myReader :\n",
    "    print(row)\n",
    "\n",
    "myReader = pd.read_csv(\"ival-2021---complet-xlsx-112652.csv\")\n",
    "myReader.head()\n",
    "\"\"\"\""
   ]
  },
  {
   "cell_type": "code",
   "execution_count": null,
   "id": "11277fda-9bde-4d15-867d-35bc44583843",
   "metadata": {},
   "outputs": [],
   "source": []
  }
 ],
 "metadata": {
  "kernelspec": {
   "display_name": "Python 3 (ipykernel)",
   "language": "python",
   "name": "python3"
  },
  "language_info": {
   "codemirror_mode": {
    "name": "ipython",
    "version": 3
   },
   "file_extension": ".py",
   "mimetype": "text/x-python",
   "name": "python",
   "nbconvert_exporter": "python",
   "pygments_lexer": "ipython3",
   "version": "3.10.4"
  }
 },
 "nbformat": 4,
 "nbformat_minor": 5
}
