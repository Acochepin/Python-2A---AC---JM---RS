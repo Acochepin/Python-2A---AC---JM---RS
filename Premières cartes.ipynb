{
 "cells": [
  {
   "cell_type": "markdown",
   "id": "2c410e66-bccc-4205-b6b4-3a557c3a63df",
   "metadata": {},
   "source": [
    "## Préliminaire-Importation des packages ##"
   ]
  },
  {
   "cell_type": "code",
   "execution_count": 1,
   "id": "04ec5f01-7fb8-4bf1-a96b-e2f14c6e98f6",
   "metadata": {
    "tags": []
   },
   "outputs": [
    {
     "name": "stdout",
     "output_type": "stream",
     "text": [
      "Requirement already satisfied: requests in /opt/mamba/lib/python3.10/site-packages (2.28.1)\n",
      "Requirement already satisfied: py7zr in /opt/mamba/lib/python3.10/site-packages (0.20.2)\n",
      "Requirement already satisfied: geopandas in /opt/mamba/lib/python3.10/site-packages (0.12.1)\n",
      "Requirement already satisfied: openpyxl in /opt/mamba/lib/python3.10/site-packages (3.0.10)\n",
      "Requirement already satisfied: tqdm in /opt/mamba/lib/python3.10/site-packages (4.64.1)\n",
      "Requirement already satisfied: s3fs in /opt/mamba/lib/python3.10/site-packages (0.4.2)\n",
      "Requirement already satisfied: PyYAML in /opt/mamba/lib/python3.10/site-packages (6.0)\n",
      "Requirement already satisfied: xlrd in /opt/mamba/lib/python3.10/site-packages (2.0.1)\n",
      "Requirement already satisfied: charset-normalizer<3,>=2 in /opt/mamba/lib/python3.10/site-packages (from requests) (2.1.1)\n",
      "Requirement already satisfied: idna<4,>=2.5 in /opt/mamba/lib/python3.10/site-packages (from requests) (3.4)\n",
      "Requirement already satisfied: urllib3<1.27,>=1.21.1 in /opt/mamba/lib/python3.10/site-packages (from requests) (1.26.13)\n",
      "Requirement already satisfied: certifi>=2017.4.17 in /opt/mamba/lib/python3.10/site-packages (from requests) (2022.12.7)\n",
      "Requirement already satisfied: multivolumefile>=0.2.3 in /opt/mamba/lib/python3.10/site-packages (from py7zr) (0.2.3)\n",
      "Requirement already satisfied: inflate64>=0.3.1 in /opt/mamba/lib/python3.10/site-packages (from py7zr) (0.3.1)\n",
      "Requirement already satisfied: brotli>=1.0.9 in /opt/mamba/lib/python3.10/site-packages (from py7zr) (1.0.9)\n",
      "Requirement already satisfied: pyzstd>=0.14.4 in /opt/mamba/lib/python3.10/site-packages (from py7zr) (0.15.3)\n",
      "Requirement already satisfied: pybcj>=0.6.0 in /opt/mamba/lib/python3.10/site-packages (from py7zr) (1.0.1)\n",
      "Requirement already satisfied: pycryptodomex>=3.6.6 in /opt/mamba/lib/python3.10/site-packages (from py7zr) (3.16.0)\n",
      "Requirement already satisfied: pyppmd<1.1.0,>=0.18.1 in /opt/mamba/lib/python3.10/site-packages (from py7zr) (1.0.0)\n",
      "Requirement already satisfied: texttable in /opt/mamba/lib/python3.10/site-packages (from py7zr) (1.6.7)\n",
      "Requirement already satisfied: psutil in /opt/mamba/lib/python3.10/site-packages (from py7zr) (5.9.4)\n",
      "Requirement already satisfied: pandas>=1.0.0 in /opt/mamba/lib/python3.10/site-packages (from geopandas) (1.5.2)\n",
      "Requirement already satisfied: packaging in /opt/mamba/lib/python3.10/site-packages (from geopandas) (21.3)\n",
      "Requirement already satisfied: fiona>=1.8 in /opt/mamba/lib/python3.10/site-packages (from geopandas) (1.8.22)\n",
      "Requirement already satisfied: pyproj>=2.6.1.post1 in /opt/mamba/lib/python3.10/site-packages (from geopandas) (3.4.0)\n",
      "Requirement already satisfied: shapely>=1.7 in /opt/mamba/lib/python3.10/site-packages (from geopandas) (1.8.5.post1)\n",
      "Requirement already satisfied: et-xmlfile in /opt/mamba/lib/python3.10/site-packages (from openpyxl) (1.1.0)\n",
      "Requirement already satisfied: fsspec>=0.6.0 in /opt/mamba/lib/python3.10/site-packages (from s3fs) (2022.11.0)\n",
      "Requirement already satisfied: botocore>=1.12.91 in /opt/mamba/lib/python3.10/site-packages (from s3fs) (1.29.13)\n",
      "Requirement already satisfied: jmespath<2.0.0,>=0.7.1 in /opt/mamba/lib/python3.10/site-packages (from botocore>=1.12.91->s3fs) (1.0.1)\n",
      "Requirement already satisfied: python-dateutil<3.0.0,>=2.1 in /opt/mamba/lib/python3.10/site-packages (from botocore>=1.12.91->s3fs) (2.8.2)\n",
      "Requirement already satisfied: munch in /opt/mamba/lib/python3.10/site-packages (from fiona>=1.8->geopandas) (2.5.0)\n",
      "Requirement already satisfied: cligj>=0.5 in /opt/mamba/lib/python3.10/site-packages (from fiona>=1.8->geopandas) (0.7.2)\n",
      "Requirement already satisfied: attrs>=17 in /opt/mamba/lib/python3.10/site-packages (from fiona>=1.8->geopandas) (22.1.0)\n",
      "Requirement already satisfied: setuptools in /opt/mamba/lib/python3.10/site-packages (from fiona>=1.8->geopandas) (65.5.1)\n",
      "Requirement already satisfied: click-plugins>=1.0 in /opt/mamba/lib/python3.10/site-packages (from fiona>=1.8->geopandas) (1.1.1)\n",
      "Requirement already satisfied: six>=1.7 in /opt/mamba/lib/python3.10/site-packages (from fiona>=1.8->geopandas) (1.16.0)\n",
      "Requirement already satisfied: click>=4.0 in /opt/mamba/lib/python3.10/site-packages (from fiona>=1.8->geopandas) (8.1.3)\n",
      "Requirement already satisfied: pytz>=2020.1 in /opt/mamba/lib/python3.10/site-packages (from pandas>=1.0.0->geopandas) (2022.6)\n",
      "Requirement already satisfied: numpy>=1.21.0 in /opt/mamba/lib/python3.10/site-packages (from pandas>=1.0.0->geopandas) (1.23.5)\n",
      "Requirement already satisfied: pyparsing!=3.0.5,>=2.0.2 in /opt/mamba/lib/python3.10/site-packages (from packaging->geopandas) (3.0.9)\n",
      "Collecting git+https://github.com/inseefrlab/cartogether\n",
      "  Cloning https://github.com/inseefrlab/cartogether to /tmp/pip-req-build-8evkntgk\n",
      "  Running command git clone --filter=blob:none --quiet https://github.com/inseefrlab/cartogether /tmp/pip-req-build-8evkntgk\n",
      "  Resolved https://github.com/inseefrlab/cartogether to commit 70f30d1659983a35e426480d684b40d4ba33b84e\n",
      "  Installing build dependencies ... \u001b[?25ldone\n",
      "\u001b[?25h  Getting requirements to build wheel ... \u001b[?25ldone\n",
      "\u001b[?25h  Preparing metadata (pyproject.toml) ... \u001b[?25ldone\n",
      "\u001b[?25h"
     ]
    }
   ],
   "source": [
    "#on commence par cartiflette parce que sinon bug sur version d'un package \n",
    "!pip install requests py7zr geopandas openpyxl tqdm s3fs PyYAML xlrd\n",
    "!pip install git+https://github.com/inseefrlab/cartogether\n"
   ]
  },
  {
   "cell_type": "code",
   "execution_count": 2,
   "id": "d51caba8-50c6-4d10-986a-80b91f38436c",
   "metadata": {},
   "outputs": [],
   "source": [
    "import cartiflette.s3\n",
    "\n"
   ]
  },
  {
   "cell_type": "code",
   "execution_count": 3,
   "id": "28f07d9b-0daf-474b-ba56-1f72dd2edad7",
   "metadata": {
    "tags": []
   },
   "outputs": [
    {
     "name": "stdout",
     "output_type": "stream",
     "text": [
      "Requirement already satisfied: pathlib2 in /opt/mamba/lib/python3.10/site-packages (2.3.7.post1)\n",
      "Requirement already satisfied: six in /opt/mamba/lib/python3.10/site-packages (from pathlib2) (1.16.0)\n",
      "Requirement already satisfied: python-Levenshtein in /opt/mamba/lib/python3.10/site-packages (0.20.8)\n",
      "Requirement already satisfied: Levenshtein==0.20.8 in /opt/mamba/lib/python3.10/site-packages (from python-Levenshtein) (0.20.8)\n",
      "Requirement already satisfied: rapidfuzz<3.0.0,>=2.3.0 in /opt/mamba/lib/python3.10/site-packages (from Levenshtein==0.20.8->python-Levenshtein) (2.13.5)\n",
      "Requirement already satisfied: xlrd in /opt/mamba/lib/python3.10/site-packages (2.0.1)\n",
      "Collecting git+https://github.com/InseeFrLab/Py-Insee-Data.git\n",
      "  Cloning https://github.com/InseeFrLab/Py-Insee-Data.git to /tmp/pip-req-build-34tss7ym\n",
      "  Running command git clone --filter=blob:none --quiet https://github.com/InseeFrLab/Py-Insee-Data.git /tmp/pip-req-build-34tss7ym\n",
      "  Resolved https://github.com/InseeFrLab/Py-Insee-Data.git to commit 2d11fcab74f74f978cd4aa965a922153c660e5f6\n",
      "  Installing build dependencies ... \u001b[?25ldone\n",
      "\u001b[?25h  Getting requirements to build wheel ... \u001b[?25ldone\n",
      "\u001b[?25h  Preparing metadata (pyproject.toml) ... \u001b[?25ldone\n",
      "\u001b[?25hRequirement already satisfied: appdirs>=1.4.4 in /opt/mamba/lib/python3.10/site-packages (from pynsee==0.1.2) (1.4.4)\n",
      "Requirement already satisfied: unidecode>=1.1.0 in /opt/mamba/lib/python3.10/site-packages (from pynsee==0.1.2) (1.3.6)\n",
      "Requirement already satisfied: tqdm>=4.56.0 in /opt/mamba/lib/python3.10/site-packages (from pynsee==0.1.2) (4.64.1)\n",
      "Requirement already satisfied: urllib3 in /opt/mamba/lib/python3.10/site-packages (from pynsee==0.1.2) (1.26.13)\n",
      "Requirement already satisfied: pandas>=0.24.2 in /opt/mamba/lib/python3.10/site-packages (from pynsee==0.1.2) (1.5.2)\n",
      "Requirement already satisfied: shapely<2.0,>=1.8.0 in /opt/mamba/lib/python3.10/site-packages (from pynsee==0.1.2) (1.8.5.post1)\n",
      "Requirement already satisfied: requests>=2.23 in /opt/mamba/lib/python3.10/site-packages (from pynsee==0.1.2) (2.28.1)\n",
      "Requirement already satisfied: pathlib in /opt/mamba/lib/python3.10/site-packages (from pynsee==0.1.2) (1.0.1)\n",
      "Requirement already satisfied: python-dateutil>=2.8.1 in /opt/mamba/lib/python3.10/site-packages (from pandas>=0.24.2->pynsee==0.1.2) (2.8.2)\n",
      "Requirement already satisfied: numpy>=1.21.0 in /opt/mamba/lib/python3.10/site-packages (from pandas>=0.24.2->pynsee==0.1.2) (1.23.5)\n",
      "Requirement already satisfied: pytz>=2020.1 in /opt/mamba/lib/python3.10/site-packages (from pandas>=0.24.2->pynsee==0.1.2) (2022.6)\n",
      "Requirement already satisfied: certifi>=2017.4.17 in /opt/mamba/lib/python3.10/site-packages (from requests>=2.23->pynsee==0.1.2) (2022.12.7)\n",
      "Requirement already satisfied: charset-normalizer<3,>=2 in /opt/mamba/lib/python3.10/site-packages (from requests>=2.23->pynsee==0.1.2) (2.1.1)\n",
      "Requirement already satisfied: idna<4,>=2.5 in /opt/mamba/lib/python3.10/site-packages (from requests>=2.23->pynsee==0.1.2) (3.4)\n",
      "Requirement already satisfied: six>=1.5 in /opt/mamba/lib/python3.10/site-packages (from python-dateutil>=2.8.1->pandas>=0.24.2->pynsee==0.1.2) (1.16.0)\n",
      "Processing ./pynsee.zip\n",
      "  Installing build dependencies ... \u001b[?25ldone\n",
      "\u001b[?25h  Getting requirements to build wheel ... \u001b[?25ldone\n",
      "\u001b[?25h  Preparing metadata (pyproject.toml) ... \u001b[?25ldone\n",
      "\u001b[?25hCollecting tqdm>=4.56.0\n",
      "  Using cached tqdm-4.64.1-py2.py3-none-any.whl (78 kB)\n",
      "Collecting unidecode>=1.1.0\n",
      "  Using cached Unidecode-1.3.6-py3-none-any.whl (235 kB)\n",
      "Collecting shapely<2.0,>=1.8.0\n",
      "  Using cached Shapely-1.8.5.post1-cp310-cp310-manylinux_2_12_x86_64.manylinux2010_x86_64.whl (2.0 MB)\n",
      "Collecting urllib3\n",
      "  Using cached urllib3-1.26.13-py2.py3-none-any.whl (140 kB)\n",
      "Collecting appdirs>=1.4.4\n",
      "  Using cached appdirs-1.4.4-py2.py3-none-any.whl (9.6 kB)\n",
      "Collecting pathlib\n",
      "  Using cached pathlib-1.0.1-py3-none-any.whl (14 kB)\n",
      "Collecting pandas>=0.24.2\n",
      "  Using cached pandas-1.5.2-cp310-cp310-manylinux_2_17_x86_64.manylinux2014_x86_64.whl (12.1 MB)\n",
      "Collecting requests>=2.23\n",
      "  Using cached requests-2.28.1-py3-none-any.whl (62 kB)\n",
      "Collecting pytz>=2020.1\n",
      "  Using cached pytz-2022.6-py2.py3-none-any.whl (498 kB)\n",
      "Collecting python-dateutil>=2.8.1\n",
      "  Using cached python_dateutil-2.8.2-py2.py3-none-any.whl (247 kB)\n",
      "Collecting numpy>=1.21.0\n",
      "  Using cached numpy-1.23.5-cp310-cp310-manylinux_2_17_x86_64.manylinux2014_x86_64.whl (17.1 MB)\n",
      "Collecting idna<4,>=2.5\n",
      "  Using cached idna-3.4-py3-none-any.whl (61 kB)\n",
      "Collecting charset-normalizer<3,>=2\n",
      "  Using cached charset_normalizer-2.1.1-py3-none-any.whl (39 kB)\n",
      "Collecting certifi>=2017.4.17\n",
      "  Using cached certifi-2022.12.7-py3-none-any.whl (155 kB)\n",
      "Collecting six>=1.5\n",
      "  Using cached six-1.16.0-py2.py3-none-any.whl (11 kB)\n",
      "Building wheels for collected packages: pynsee\n",
      "  Building wheel for pynsee (pyproject.toml) ... \u001b[?25ldone\n",
      "\u001b[?25h  Created wheel for pynsee: filename=pynsee-0.1.2-py3-none-any.whl size=9804928 sha256=09c00c3cb65794559e075ad1e81a37d7e97fcd55dc9ed524283c9882ecf01f74\n",
      "  Stored in directory: /tmp/pip-ephem-wheel-cache-fbwyv50h/wheels/d9/ab/f9/ef7a559f8aeedffdd454f426e699fdf71344e0627dc30f0970\n",
      "Successfully built pynsee\n",
      "Installing collected packages: pytz, pathlib, appdirs, urllib3, unidecode, tqdm, six, shapely, numpy, idna, charset-normalizer, certifi, requests, python-dateutil, pandas, pynsee\n",
      "Successfully installed appdirs-1.4.4 certifi-2022.12.7 charset-normalizer-2.1.1 idna-3.4 numpy-1.23.5 pandas-1.5.2 pathlib-1.0.1 pynsee-0.1.2 python-dateutil-2.8.2 pytz-2022.6 requests-2.28.1 shapely-1.8.5.post1 six-1.16.0 tqdm-4.64.1 unidecode-1.3.6 urllib3-1.26.13\n",
      "Requirement already satisfied: openpyxl in /opt/mamba/lib/python3.10/site-packages (3.0.10)\n",
      "Requirement already satisfied: et-xmlfile in /opt/mamba/lib/python3.10/site-packages (from openpyxl) (1.1.0)\n",
      "Requirement already satisfied: pandas in /opt/mamba/lib/python3.10/site-packages (1.5.2)\n",
      "Requirement already satisfied: fiona in /opt/mamba/lib/python3.10/site-packages (1.8.22)\n",
      "Requirement already satisfied: shapely in /opt/mamba/lib/python3.10/site-packages (1.8.5.post1)\n",
      "Requirement already satisfied: pyproj in /opt/mamba/lib/python3.10/site-packages (3.4.0)\n",
      "Requirement already satisfied: rtree in /opt/mamba/lib/python3.10/site-packages (1.0.1)\n",
      "Requirement already satisfied: python-dateutil>=2.8.1 in /opt/mamba/lib/python3.10/site-packages (from pandas) (2.8.2)\n",
      "Requirement already satisfied: pytz>=2020.1 in /opt/mamba/lib/python3.10/site-packages (from pandas) (2022.6)\n",
      "Requirement already satisfied: numpy>=1.21.0 in /opt/mamba/lib/python3.10/site-packages (from pandas) (1.23.5)\n",
      "Requirement already satisfied: click-plugins>=1.0 in /opt/mamba/lib/python3.10/site-packages (from fiona) (1.1.1)\n",
      "Requirement already satisfied: cligj>=0.5 in /opt/mamba/lib/python3.10/site-packages (from fiona) (0.7.2)\n",
      "Requirement already satisfied: munch in /opt/mamba/lib/python3.10/site-packages (from fiona) (2.5.0)\n",
      "Requirement already satisfied: six>=1.7 in /opt/mamba/lib/python3.10/site-packages (from fiona) (1.16.0)\n",
      "Requirement already satisfied: setuptools in /opt/mamba/lib/python3.10/site-packages (from fiona) (65.5.1)\n",
      "Requirement already satisfied: certifi in /opt/mamba/lib/python3.10/site-packages (from fiona) (2022.12.7)\n",
      "Requirement already satisfied: click>=4.0 in /opt/mamba/lib/python3.10/site-packages (from fiona) (8.1.3)\n",
      "Requirement already satisfied: attrs>=17 in /opt/mamba/lib/python3.10/site-packages (from fiona) (22.1.0)\n",
      "Requirement already satisfied: contextily in /opt/mamba/lib/python3.10/site-packages (1.2.0)\n",
      "Requirement already satisfied: xyzservices in /opt/mamba/lib/python3.10/site-packages (from contextily) (2022.9.0)\n",
      "Requirement already satisfied: mercantile in /opt/mamba/lib/python3.10/site-packages (from contextily) (1.2.1)\n",
      "Requirement already satisfied: pillow in /opt/mamba/lib/python3.10/site-packages (from contextily) (9.2.0)\n",
      "Requirement already satisfied: joblib in /opt/mamba/lib/python3.10/site-packages (from contextily) (1.2.0)\n",
      "Requirement already satisfied: requests in /opt/mamba/lib/python3.10/site-packages (from contextily) (2.28.1)\n",
      "Requirement already satisfied: matplotlib in /opt/mamba/lib/python3.10/site-packages (from contextily) (3.6.2)\n",
      "Requirement already satisfied: rasterio in /opt/mamba/lib/python3.10/site-packages (from contextily) (1.3.4)\n",
      "Requirement already satisfied: geopy in /opt/mamba/lib/python3.10/site-packages (from contextily) (2.3.0)\n",
      "Requirement already satisfied: geographiclib<3,>=1.52 in /opt/mamba/lib/python3.10/site-packages (from geopy->contextily) (2.0)\n",
      "Requirement already satisfied: pyparsing>=2.2.1 in /opt/mamba/lib/python3.10/site-packages (from matplotlib->contextily) (3.0.9)\n",
      "Requirement already satisfied: python-dateutil>=2.7 in /opt/mamba/lib/python3.10/site-packages (from matplotlib->contextily) (2.8.2)\n",
      "Requirement already satisfied: fonttools>=4.22.0 in /opt/mamba/lib/python3.10/site-packages (from matplotlib->contextily) (4.38.0)\n",
      "Requirement already satisfied: kiwisolver>=1.0.1 in /opt/mamba/lib/python3.10/site-packages (from matplotlib->contextily) (1.4.4)\n",
      "Requirement already satisfied: numpy>=1.19 in /opt/mamba/lib/python3.10/site-packages (from matplotlib->contextily) (1.23.5)\n",
      "Requirement already satisfied: contourpy>=1.0.1 in /opt/mamba/lib/python3.10/site-packages (from matplotlib->contextily) (1.0.6)\n",
      "Requirement already satisfied: cycler>=0.10 in /opt/mamba/lib/python3.10/site-packages (from matplotlib->contextily) (0.11.0)\n",
      "Requirement already satisfied: packaging>=20.0 in /opt/mamba/lib/python3.10/site-packages (from matplotlib->contextily) (21.3)\n",
      "Requirement already satisfied: click>=3.0 in /opt/mamba/lib/python3.10/site-packages (from mercantile->contextily) (8.1.3)\n",
      "Requirement already satisfied: attrs in /opt/mamba/lib/python3.10/site-packages (from rasterio->contextily) (22.1.0)\n",
      "Requirement already satisfied: certifi in /opt/mamba/lib/python3.10/site-packages (from rasterio->contextily) (2022.12.7)\n",
      "Requirement already satisfied: cligj>=0.5 in /opt/mamba/lib/python3.10/site-packages (from rasterio->contextily) (0.7.2)\n",
      "Requirement already satisfied: affine in /opt/mamba/lib/python3.10/site-packages (from rasterio->contextily) (2.3.1)\n",
      "Requirement already satisfied: setuptools in /opt/mamba/lib/python3.10/site-packages (from rasterio->contextily) (65.5.1)\n",
      "Requirement already satisfied: snuggs>=1.4.1 in /opt/mamba/lib/python3.10/site-packages (from rasterio->contextily) (1.4.7)\n",
      "Requirement already satisfied: click-plugins in /opt/mamba/lib/python3.10/site-packages (from rasterio->contextily) (1.1.1)\n",
      "Requirement already satisfied: urllib3<1.27,>=1.21.1 in /opt/mamba/lib/python3.10/site-packages (from requests->contextily) (1.26.13)\n",
      "Requirement already satisfied: idna<4,>=2.5 in /opt/mamba/lib/python3.10/site-packages (from requests->contextily) (3.4)\n",
      "Requirement already satisfied: charset-normalizer<3,>=2 in /opt/mamba/lib/python3.10/site-packages (from requests->contextily) (2.1.1)\n",
      "Requirement already satisfied: six>=1.5 in /opt/mamba/lib/python3.10/site-packages (from python-dateutil>=2.7->matplotlib->contextily) (1.16.0)\n",
      "Requirement already satisfied: geopandas in /opt/mamba/lib/python3.10/site-packages (0.12.1)\n",
      "Requirement already satisfied: pyproj>=2.6.1.post1 in /opt/mamba/lib/python3.10/site-packages (from geopandas) (3.4.0)\n",
      "Requirement already satisfied: packaging in /opt/mamba/lib/python3.10/site-packages (from geopandas) (21.3)\n",
      "Requirement already satisfied: shapely>=1.7 in /opt/mamba/lib/python3.10/site-packages (from geopandas) (1.8.5.post1)\n",
      "Requirement already satisfied: pandas>=1.0.0 in /opt/mamba/lib/python3.10/site-packages (from geopandas) (1.5.2)\n",
      "Requirement already satisfied: fiona>=1.8 in /opt/mamba/lib/python3.10/site-packages (from geopandas) (1.8.22)\n",
      "Requirement already satisfied: click>=4.0 in /opt/mamba/lib/python3.10/site-packages (from fiona>=1.8->geopandas) (8.1.3)\n",
      "Requirement already satisfied: munch in /opt/mamba/lib/python3.10/site-packages (from fiona>=1.8->geopandas) (2.5.0)\n",
      "Requirement already satisfied: click-plugins>=1.0 in /opt/mamba/lib/python3.10/site-packages (from fiona>=1.8->geopandas) (1.1.1)\n",
      "Requirement already satisfied: setuptools in /opt/mamba/lib/python3.10/site-packages (from fiona>=1.8->geopandas) (65.5.1)\n",
      "Requirement already satisfied: cligj>=0.5 in /opt/mamba/lib/python3.10/site-packages (from fiona>=1.8->geopandas) (0.7.2)\n",
      "Requirement already satisfied: six>=1.7 in /opt/mamba/lib/python3.10/site-packages (from fiona>=1.8->geopandas) (1.16.0)\n",
      "Requirement already satisfied: certifi in /opt/mamba/lib/python3.10/site-packages (from fiona>=1.8->geopandas) (2022.12.7)\n",
      "Requirement already satisfied: attrs>=17 in /opt/mamba/lib/python3.10/site-packages (from fiona>=1.8->geopandas) (22.1.0)\n",
      "Requirement already satisfied: pytz>=2020.1 in /opt/mamba/lib/python3.10/site-packages (from pandas>=1.0.0->geopandas) (2022.6)\n",
      "Requirement already satisfied: numpy>=1.21.0 in /opt/mamba/lib/python3.10/site-packages (from pandas>=1.0.0->geopandas) (1.23.5)\n",
      "Requirement already satisfied: python-dateutil>=2.8.1 in /opt/mamba/lib/python3.10/site-packages (from pandas>=1.0.0->geopandas) (2.8.2)\n",
      "Requirement already satisfied: pyparsing!=3.0.5,>=2.0.2 in /opt/mamba/lib/python3.10/site-packages (from packaging->geopandas) (3.0.9)\n",
      "Requirement already satisfied: folium in /opt/mamba/lib/python3.10/site-packages (0.13.0)\n",
      "Requirement already satisfied: numpy in /opt/mamba/lib/python3.10/site-packages (from folium) (1.23.5)\n",
      "Requirement already satisfied: branca>=0.3.0 in /opt/mamba/lib/python3.10/site-packages (from folium) (0.6.0)\n",
      "Requirement already satisfied: requests in /opt/mamba/lib/python3.10/site-packages (from folium) (2.28.1)\n",
      "Requirement already satisfied: jinja2>=2.9 in /opt/mamba/lib/python3.10/site-packages (from folium) (3.1.2)\n",
      "Requirement already satisfied: MarkupSafe>=2.0 in /opt/mamba/lib/python3.10/site-packages (from jinja2>=2.9->folium) (2.1.1)\n",
      "Requirement already satisfied: certifi>=2017.4.17 in /opt/mamba/lib/python3.10/site-packages (from requests->folium) (2022.12.7)\n",
      "Requirement already satisfied: charset-normalizer<3,>=2 in /opt/mamba/lib/python3.10/site-packages (from requests->folium) (2.1.1)\n",
      "Requirement already satisfied: urllib3<1.27,>=1.21.1 in /opt/mamba/lib/python3.10/site-packages (from requests->folium) (1.26.13)\n",
      "Requirement already satisfied: idna<4,>=2.5 in /opt/mamba/lib/python3.10/site-packages (from requests->folium) (3.4)\n"
     ]
    }
   ],
   "source": [
    "#on a probablement pas besoin de garder tout ça\n",
    "!pip install pathlib2\n",
    "!pip install python-Levenshtein\n",
    "!pip install --upgrade xlrd\n",
    "!pip install git+https://github.com/InseeFrLab/Py-Insee-Data.git\n",
    "\n",
    "\n",
    "!pip install --ignore-installed pynsee.zip\n",
    "!pip install openpyxl\n",
    "!pip install pandas fiona shapely pyproj rtree # à faire obligatoirement en premier pour utiliser rtree ou pygeos pour les jointures spatiales\n",
    "!pip install contextily\n",
    "!pip install geopandas\n",
    "!pip install folium\n",
    "import requests\n",
    "url = 'https://github.com/InseeFrLab/Py-Insee-Data/archive/refs/heads/master.zip'\n",
    "r = requests.get(url)\n",
    "with open(\"pynsee.zip\" , 'wb') as zipfile:\n",
    "    zipfile.write(r.content)\n",
    "import numpy as np\n",
    "import pandas as pd\n",
    "import matplotlib.pyplot as plt\n",
    "import pynsee.download\n",
    "import geopandas as gpd\n",
    "import contextily as ctx\n",
    "import folium"
   ]
  },
  {
   "cell_type": "markdown",
   "id": "605a4adf-6534-4848-962a-16e04ddeb335",
   "metadata": {},
   "source": [
    "## I-Ouverture et traitement des bases de données ##"
   ]
  },
  {
   "cell_type": "markdown",
   "id": "4dc5510c-4b4c-46e1-a740-1b66b3d9c600",
   "metadata": {},
   "source": [
    "On utilise une base de données issue de data.gouv pour les contours des communes qui est bien plus légère que la version cartiflette."
   ]
  },
  {
   "cell_type": "code",
   "execution_count": 4,
   "id": "cc0f5e54-b91f-45d1-93b0-1e1282275efa",
   "metadata": {
    "tags": []
   },
   "outputs": [
    {
     "name": "stderr",
     "output_type": "stream",
     "text": [
      "ERROR 1: PROJ: proj_create_from_database: Open of /opt/mamba/share/proj failed\n"
     ]
    },
    {
     "name": "stdout",
     "output_type": "stream",
     "text": [
      "<class 'pandas.core.frame.DataFrame'>\n",
      "RangeIndex: 4396 entries, 0 to 4395\n",
      "Data columns (total 28 columns):\n",
      " #   Column                                                         Non-Null Count  Dtype  \n",
      "---  ------                                                         --------------  -----  \n",
      " 0   Identifiant_de_l_etablissement                                 4396 non-null   object \n",
      " 1   Informations établissement_Académie                            4396 non-null   object \n",
      " 2   Informations établissement_Département                         4396 non-null   object \n",
      " 3   Informations établissement_Etablissement                       4396 non-null   object \n",
      " 4   Informations établissement_Ville                               4396 non-null   object \n",
      " 5   Code_commune                                                   4396 non-null   object \n",
      " 6   Informations établissement_Secteur                             4396 non-null   object \n",
      " 7   Nombre d'élèves présents au Bac_GNLE                           2204 non-null   float64\n",
      " 8   Taux de réussite bruts_GNLE                                    2204 non-null   float64\n",
      " 9   Valeur ajoutée du taux de réussite_GNLE                        2190 non-null   float64\n",
      " 10  Nombre d'élèves présents au Bac_Somme Techno                   1847 non-null   float64\n",
      " 11  Taux de réussite bruts_Taux brut techno                        1847 non-null   float64\n",
      " 12  Valeur ajoutée du taux de réussite_Valeur ajoutée techno       1789 non-null   float64\n",
      " 13  Nombre d'élèves présents au Bac_TOTAL_LGT                      2355 non-null   float64\n",
      " 14  Taux de réussite bruts_TOTAL_LGT                               2355 non-null   float64\n",
      " 15  Valeur ajoutée du taux de réussite_TOTAL_LGT                   2341 non-null   float64\n",
      " 16  Nombre d'élèves présents au Bac_TOTAL_Pro                      2041 non-null   float64\n",
      " 17  Taux de réussite bruts_TOTAL_Pro                               2041 non-null   float64\n",
      " 18  Valeur ajoutée du taux de réussite_TOTAL_Pro                   2041 non-null   object \n",
      " 19  Nbre de ménages fiscaux_NBMEN19                                4313 non-null   float64\n",
      " 20  Nbre de personnes dans les ménages fiscaux_NBPERS19            4313 non-null   float64\n",
      " 21  Nbre d'unités de consommation dans les ménages fiscaux_NBUC19  4313 non-null   float64\n",
      " 22  Médiane (€)_Q219                                               4313 non-null   float64\n",
      " 23  coordonnee_X                                                   4396 non-null   float64\n",
      " 24  coordonnee_Y                                                   4396 non-null   float64\n",
      " 25  epsg                                                           4396 non-null   object \n",
      " 26  latitude                                                       4396 non-null   float64\n",
      " 27  longitude                                                      4396 non-null   float64\n",
      "dtypes: float64(19), object(9)\n",
      "memory usage: 961.8+ KB\n"
     ]
    },
    {
     "data": {
      "text/html": [
       "<div>\n",
       "<style scoped>\n",
       "    .dataframe tbody tr th:only-of-type {\n",
       "        vertical-align: middle;\n",
       "    }\n",
       "\n",
       "    .dataframe tbody tr th {\n",
       "        vertical-align: top;\n",
       "    }\n",
       "\n",
       "    .dataframe thead th {\n",
       "        text-align: right;\n",
       "    }\n",
       "</style>\n",
       "<table border=\"1\" class=\"dataframe\">\n",
       "  <thead>\n",
       "    <tr style=\"text-align: right;\">\n",
       "      <th></th>\n",
       "      <th>Identifiant_de_l_etablissement</th>\n",
       "      <th>Informations établissement_Académie</th>\n",
       "      <th>Informations établissement_Département</th>\n",
       "      <th>Informations établissement_Etablissement</th>\n",
       "      <th>Informations établissement_Ville</th>\n",
       "      <th>Code_commune</th>\n",
       "      <th>Informations établissement_Secteur</th>\n",
       "      <th>Nombre d'élèves présents au Bac_GNLE</th>\n",
       "      <th>Taux de réussite bruts_GNLE</th>\n",
       "      <th>Valeur ajoutée du taux de réussite_GNLE</th>\n",
       "      <th>...</th>\n",
       "      <th>Valeur ajoutée du taux de réussite_TOTAL_Pro</th>\n",
       "      <th>Nbre de ménages fiscaux_NBMEN19</th>\n",
       "      <th>Nbre de personnes dans les ménages fiscaux_NBPERS19</th>\n",
       "      <th>Nbre d'unités de consommation dans les ménages fiscaux_NBUC19</th>\n",
       "      <th>Médiane (€)_Q219</th>\n",
       "      <th>coordonnee_X</th>\n",
       "      <th>coordonnee_Y</th>\n",
       "      <th>epsg</th>\n",
       "      <th>latitude</th>\n",
       "      <th>longitude</th>\n",
       "    </tr>\n",
       "  </thead>\n",
       "  <tbody>\n",
       "    <tr>\n",
       "      <th>0</th>\n",
       "      <td>0040003G</td>\n",
       "      <td>AIX-MARSEILLE</td>\n",
       "      <td>ALPES DE HTE PROVENCE</td>\n",
       "      <td>LYCEE ANDRE HONNORAT (GENERAL ET TECHNO.)</td>\n",
       "      <td>BARCELONNETTE</td>\n",
       "      <td>04019</td>\n",
       "      <td>PU</td>\n",
       "      <td>54.0</td>\n",
       "      <td>98.0</td>\n",
       "      <td>4.0</td>\n",
       "      <td>...</td>\n",
       "      <td>NaN</td>\n",
       "      <td>1400.0</td>\n",
       "      <td>2490.0</td>\n",
       "      <td>1888.7</td>\n",
       "      <td>19070.0</td>\n",
       "      <td>990800.5</td>\n",
       "      <td>6372252.3</td>\n",
       "      <td>EPSG:2154</td>\n",
       "      <td>44.388778</td>\n",
       "      <td>6.651860</td>\n",
       "    </tr>\n",
       "    <tr>\n",
       "      <th>1</th>\n",
       "      <td>0040003G</td>\n",
       "      <td>AIX-MARSEILLE</td>\n",
       "      <td>ALPES DE HTE PROVENCE</td>\n",
       "      <td>LYCEE ANDRE HONNORAT (PROFESSIONNEL)</td>\n",
       "      <td>BARCELONNETTE</td>\n",
       "      <td>04019</td>\n",
       "      <td>PU</td>\n",
       "      <td>NaN</td>\n",
       "      <td>NaN</td>\n",
       "      <td>NaN</td>\n",
       "      <td>...</td>\n",
       "      <td>-2</td>\n",
       "      <td>1400.0</td>\n",
       "      <td>2490.0</td>\n",
       "      <td>1888.7</td>\n",
       "      <td>19070.0</td>\n",
       "      <td>990800.5</td>\n",
       "      <td>6372252.3</td>\n",
       "      <td>EPSG:2154</td>\n",
       "      <td>44.388778</td>\n",
       "      <td>6.651860</td>\n",
       "    </tr>\n",
       "    <tr>\n",
       "      <th>2</th>\n",
       "      <td>0040027H</td>\n",
       "      <td>AIX-MARSEILLE</td>\n",
       "      <td>ALPES DE HTE PROVENCE</td>\n",
       "      <td>LYCEE ALEXANDRA DAVID NEEL</td>\n",
       "      <td>DIGNE LES BAINS</td>\n",
       "      <td>04070</td>\n",
       "      <td>PU</td>\n",
       "      <td>122.0</td>\n",
       "      <td>99.0</td>\n",
       "      <td>2.0</td>\n",
       "      <td>...</td>\n",
       "      <td>NaN</td>\n",
       "      <td>7953.0</td>\n",
       "      <td>15531.0</td>\n",
       "      <td>11316.4</td>\n",
       "      <td>19840.0</td>\n",
       "      <td>958859.0</td>\n",
       "      <td>6338835.0</td>\n",
       "      <td>EPSG:2154</td>\n",
       "      <td>44.100803</td>\n",
       "      <td>6.234041</td>\n",
       "    </tr>\n",
       "    <tr>\n",
       "      <th>3</th>\n",
       "      <td>0040490L</td>\n",
       "      <td>AIX-MARSEILLE</td>\n",
       "      <td>ALPES DE HTE PROVENCE</td>\n",
       "      <td>LYCEE PIERRE-GILLES DE GENNES</td>\n",
       "      <td>DIGNE LES BAINS</td>\n",
       "      <td>04070</td>\n",
       "      <td>PU</td>\n",
       "      <td>98.0</td>\n",
       "      <td>100.0</td>\n",
       "      <td>1.0</td>\n",
       "      <td>...</td>\n",
       "      <td>NaN</td>\n",
       "      <td>7953.0</td>\n",
       "      <td>15531.0</td>\n",
       "      <td>11316.4</td>\n",
       "      <td>19840.0</td>\n",
       "      <td>954812.0</td>\n",
       "      <td>6335664.0</td>\n",
       "      <td>EPSG:2154</td>\n",
       "      <td>44.073766</td>\n",
       "      <td>6.181939</td>\n",
       "    </tr>\n",
       "    <tr>\n",
       "      <th>4</th>\n",
       "      <td>0040010P</td>\n",
       "      <td>AIX-MARSEILLE</td>\n",
       "      <td>ALPES DE HTE PROVENCE</td>\n",
       "      <td>LYCEE FELIX ESCLANGON</td>\n",
       "      <td>MANOSQUE</td>\n",
       "      <td>04112</td>\n",
       "      <td>PU</td>\n",
       "      <td>174.0</td>\n",
       "      <td>97.0</td>\n",
       "      <td>-1.0</td>\n",
       "      <td>...</td>\n",
       "      <td>NaN</td>\n",
       "      <td>10413.0</td>\n",
       "      <td>21980.0</td>\n",
       "      <td>15467.9</td>\n",
       "      <td>19270.0</td>\n",
       "      <td>923669.0</td>\n",
       "      <td>6308250.0</td>\n",
       "      <td>EPSG:2154</td>\n",
       "      <td>43.837805</td>\n",
       "      <td>5.781337</td>\n",
       "    </tr>\n",
       "  </tbody>\n",
       "</table>\n",
       "<p>5 rows × 28 columns</p>\n",
       "</div>"
      ],
      "text/plain": [
       "  Identifiant_de_l_etablissement Informations établissement_Académie  \\\n",
       "0                       0040003G                       AIX-MARSEILLE   \n",
       "1                       0040003G                       AIX-MARSEILLE   \n",
       "2                       0040027H                       AIX-MARSEILLE   \n",
       "3                       0040490L                       AIX-MARSEILLE   \n",
       "4                       0040010P                       AIX-MARSEILLE   \n",
       "\n",
       "  Informations établissement_Département  \\\n",
       "0                  ALPES DE HTE PROVENCE   \n",
       "1                  ALPES DE HTE PROVENCE   \n",
       "2                  ALPES DE HTE PROVENCE   \n",
       "3                  ALPES DE HTE PROVENCE   \n",
       "4                  ALPES DE HTE PROVENCE   \n",
       "\n",
       "    Informations établissement_Etablissement Informations établissement_Ville  \\\n",
       "0  LYCEE ANDRE HONNORAT (GENERAL ET TECHNO.)                    BARCELONNETTE   \n",
       "1       LYCEE ANDRE HONNORAT (PROFESSIONNEL)                    BARCELONNETTE   \n",
       "2                 LYCEE ALEXANDRA DAVID NEEL                  DIGNE LES BAINS   \n",
       "3              LYCEE PIERRE-GILLES DE GENNES                  DIGNE LES BAINS   \n",
       "4                      LYCEE FELIX ESCLANGON                         MANOSQUE   \n",
       "\n",
       "  Code_commune Informations établissement_Secteur  \\\n",
       "0        04019                                 PU   \n",
       "1        04019                                 PU   \n",
       "2        04070                                 PU   \n",
       "3        04070                                 PU   \n",
       "4        04112                                 PU   \n",
       "\n",
       "   Nombre d'élèves présents au Bac_GNLE  Taux de réussite bruts_GNLE  \\\n",
       "0                                  54.0                         98.0   \n",
       "1                                   NaN                          NaN   \n",
       "2                                 122.0                         99.0   \n",
       "3                                  98.0                        100.0   \n",
       "4                                 174.0                         97.0   \n",
       "\n",
       "   Valeur ajoutée du taux de réussite_GNLE  ...  \\\n",
       "0                                      4.0  ...   \n",
       "1                                      NaN  ...   \n",
       "2                                      2.0  ...   \n",
       "3                                      1.0  ...   \n",
       "4                                     -1.0  ...   \n",
       "\n",
       "   Valeur ajoutée du taux de réussite_TOTAL_Pro  \\\n",
       "0                                           NaN   \n",
       "1                                            -2   \n",
       "2                                           NaN   \n",
       "3                                           NaN   \n",
       "4                                           NaN   \n",
       "\n",
       "   Nbre de ménages fiscaux_NBMEN19  \\\n",
       "0                           1400.0   \n",
       "1                           1400.0   \n",
       "2                           7953.0   \n",
       "3                           7953.0   \n",
       "4                          10413.0   \n",
       "\n",
       "   Nbre de personnes dans les ménages fiscaux_NBPERS19  \\\n",
       "0                                             2490.0     \n",
       "1                                             2490.0     \n",
       "2                                            15531.0     \n",
       "3                                            15531.0     \n",
       "4                                            21980.0     \n",
       "\n",
       "   Nbre d'unités de consommation dans les ménages fiscaux_NBUC19  \\\n",
       "0                                             1888.7               \n",
       "1                                             1888.7               \n",
       "2                                            11316.4               \n",
       "3                                            11316.4               \n",
       "4                                            15467.9               \n",
       "\n",
       "   Médiane (€)_Q219  coordonnee_X  coordonnee_Y       epsg   latitude  \\\n",
       "0           19070.0      990800.5     6372252.3  EPSG:2154  44.388778   \n",
       "1           19070.0      990800.5     6372252.3  EPSG:2154  44.388778   \n",
       "2           19840.0      958859.0     6338835.0  EPSG:2154  44.100803   \n",
       "3           19840.0      954812.0     6335664.0  EPSG:2154  44.073766   \n",
       "4           19270.0      923669.0     6308250.0  EPSG:2154  43.837805   \n",
       "\n",
       "   longitude  \n",
       "0   6.651860  \n",
       "1   6.651860  \n",
       "2   6.234041  \n",
       "3   6.181939  \n",
       "4   5.781337  \n",
       "\n",
       "[5 rows x 28 columns]"
      ]
     },
     "execution_count": 4,
     "metadata": {},
     "output_type": "execute_result"
    }
   ],
   "source": [
    "df = pd.read_excel(\"/home/onyxia/work/Python-2A---AC---JM---RS/base_définitive.xlsx\") #pour l'instant doit executer fichier manipulation bases avant pour l'avoir\n",
    "leger = gpd.read_file(\"https://www.data.gouv.fr/fr/datasets/r/a7424932-4585-4ee8-a24b-78535710ca99\") #fichier beaucoup plus léger que celui généré par cartiflette\n",
    "df = df.drop(\"Unnamed: 0\", axis=1)\n",
    "df.info()\n",
    "df.head()"
   ]
  },
  {
   "cell_type": "code",
   "execution_count": 5,
   "id": "7cbd0e3f-2b19-48c0-9e57-9eabcb4a447e",
   "metadata": {
    "tags": []
   },
   "outputs": [
    {
     "name": "stdout",
     "output_type": "stream",
     "text": [
      "<class 'geopandas.geodataframe.GeoDataFrame'>\n",
      "RangeIndex: 34955 entries, 0 to 34954\n",
      "Data columns (total 8 columns):\n",
      " #   Column    Non-Null Count  Dtype   \n",
      "---  ------    --------------  -----   \n",
      " 0   id        0 non-null      object  \n",
      " 1   codgeo    34955 non-null  object  \n",
      " 2   dep       34955 non-null  object  \n",
      " 3   reg       34955 non-null  object  \n",
      " 4   xcl2154   34955 non-null  int64   \n",
      " 5   ycl2154   34955 non-null  int64   \n",
      " 6   libgeo    34955 non-null  object  \n",
      " 7   geometry  34955 non-null  geometry\n",
      "dtypes: geometry(1), int64(2), object(5)\n",
      "memory usage: 2.1+ MB\n"
     ]
    },
    {
     "data": {
      "text/html": [
       "<div>\n",
       "<style scoped>\n",
       "    .dataframe tbody tr th:only-of-type {\n",
       "        vertical-align: middle;\n",
       "    }\n",
       "\n",
       "    .dataframe tbody tr th {\n",
       "        vertical-align: top;\n",
       "    }\n",
       "\n",
       "    .dataframe thead th {\n",
       "        text-align: right;\n",
       "    }\n",
       "</style>\n",
       "<table border=\"1\" class=\"dataframe\">\n",
       "  <thead>\n",
       "    <tr style=\"text-align: right;\">\n",
       "      <th></th>\n",
       "      <th>id</th>\n",
       "      <th>codgeo</th>\n",
       "      <th>dep</th>\n",
       "      <th>reg</th>\n",
       "      <th>xcl2154</th>\n",
       "      <th>ycl2154</th>\n",
       "      <th>libgeo</th>\n",
       "      <th>geometry</th>\n",
       "    </tr>\n",
       "  </thead>\n",
       "  <tbody>\n",
       "    <tr>\n",
       "      <th>0</th>\n",
       "      <td>None</td>\n",
       "      <td>01001</td>\n",
       "      <td>01</td>\n",
       "      <td>84</td>\n",
       "      <td>848241</td>\n",
       "      <td>6563021</td>\n",
       "      <td>L'Abergement-Clémenciat</td>\n",
       "      <td>POLYGON ((4.90494 46.16082, 4.90550 46.16578, ...</td>\n",
       "    </tr>\n",
       "    <tr>\n",
       "      <th>1</th>\n",
       "      <td>None</td>\n",
       "      <td>01002</td>\n",
       "      <td>01</td>\n",
       "      <td>84</td>\n",
       "      <td>887495</td>\n",
       "      <td>6548152</td>\n",
       "      <td>L'Abergement-de-Varey</td>\n",
       "      <td>POLYGON ((5.40437 46.00781, 5.40616 46.01070, ...</td>\n",
       "    </tr>\n",
       "    <tr>\n",
       "      <th>2</th>\n",
       "      <td>None</td>\n",
       "      <td>01004</td>\n",
       "      <td>01</td>\n",
       "      <td>84</td>\n",
       "      <td>882724</td>\n",
       "      <td>6542583</td>\n",
       "      <td>Ambérieu-en-Bugey</td>\n",
       "      <td>POLYGON ((5.38635 45.93124, 5.38512 45.93111, ...</td>\n",
       "    </tr>\n",
       "    <tr>\n",
       "      <th>3</th>\n",
       "      <td>None</td>\n",
       "      <td>01005</td>\n",
       "      <td>01</td>\n",
       "      <td>84</td>\n",
       "      <td>847277</td>\n",
       "      <td>6545791</td>\n",
       "      <td>Ambérieux-en-Dombes</td>\n",
       "      <td>POLYGON ((4.88654 46.01605, 4.88814 46.01650, ...</td>\n",
       "    </tr>\n",
       "    <tr>\n",
       "      <th>4</th>\n",
       "      <td>None</td>\n",
       "      <td>01006</td>\n",
       "      <td>01</td>\n",
       "      <td>84</td>\n",
       "      <td>902191</td>\n",
       "      <td>6519791</td>\n",
       "      <td>Ambléon</td>\n",
       "      <td>POLYGON ((5.59063 45.76000, 5.60516 45.76058, ...</td>\n",
       "    </tr>\n",
       "  </tbody>\n",
       "</table>\n",
       "</div>"
      ],
      "text/plain": [
       "     id codgeo dep reg  xcl2154  ycl2154                   libgeo  \\\n",
       "0  None  01001  01  84   848241  6563021  L'Abergement-Clémenciat   \n",
       "1  None  01002  01  84   887495  6548152    L'Abergement-de-Varey   \n",
       "2  None  01004  01  84   882724  6542583        Ambérieu-en-Bugey   \n",
       "3  None  01005  01  84   847277  6545791      Ambérieux-en-Dombes   \n",
       "4  None  01006  01  84   902191  6519791                  Ambléon   \n",
       "\n",
       "                                            geometry  \n",
       "0  POLYGON ((4.90494 46.16082, 4.90550 46.16578, ...  \n",
       "1  POLYGON ((5.40437 46.00781, 5.40616 46.01070, ...  \n",
       "2  POLYGON ((5.38635 45.93124, 5.38512 45.93111, ...  \n",
       "3  POLYGON ((4.88654 46.01605, 4.88814 46.01650, ...  \n",
       "4  POLYGON ((5.59063 45.76000, 5.60516 45.76058, ...  "
      ]
     },
     "execution_count": 5,
     "metadata": {},
     "output_type": "execute_result"
    }
   ],
   "source": [
    "leger.info()\n",
    "leger.head()"
   ]
  },
  {
   "cell_type": "markdown",
   "id": "7ad99489-b767-4787-bea3-1e34edd2120a",
   "metadata": {},
   "source": [
    "on enlève les départements d'outre mer car ils ont été déplacés dans le fichier des contours (pour pouvoir faire des cartes où ils sont visibles) ce qui rend le traitement compliqué "
   ]
  },
  {
   "cell_type": "code",
   "execution_count": 6,
   "id": "ffd836ed-f4e8-4a3d-9ee8-bdea68e83a59",
   "metadata": {},
   "outputs": [],
   "source": [
    "outre_mer = [\"971\", \"972\", \"973\", \"974\", \"976\"]\n",
    "for i in outre_mer:\n",
    "    leger = leger[leger[\"dep\"] != i]"
   ]
  },
  {
   "cell_type": "markdown",
   "id": "227411bf-5d5a-4fdd-ba5d-b994ffe28fd8",
   "metadata": {},
   "source": [
    "on enlève les variables inutiles"
   ]
  },
  {
   "cell_type": "code",
   "execution_count": 7,
   "id": "e4e3077e-5782-46c8-9622-b186cd098fe6",
   "metadata": {
    "tags": []
   },
   "outputs": [
    {
     "data": {
      "text/html": [
       "<div>\n",
       "<style scoped>\n",
       "    .dataframe tbody tr th:only-of-type {\n",
       "        vertical-align: middle;\n",
       "    }\n",
       "\n",
       "    .dataframe tbody tr th {\n",
       "        vertical-align: top;\n",
       "    }\n",
       "\n",
       "    .dataframe thead th {\n",
       "        text-align: right;\n",
       "    }\n",
       "</style>\n",
       "<table border=\"1\" class=\"dataframe\">\n",
       "  <thead>\n",
       "    <tr style=\"text-align: right;\">\n",
       "      <th></th>\n",
       "      <th>codgeo</th>\n",
       "      <th>geometry</th>\n",
       "    </tr>\n",
       "  </thead>\n",
       "  <tbody>\n",
       "    <tr>\n",
       "      <th>34821</th>\n",
       "      <td>95680</td>\n",
       "      <td>POLYGON ((2.41645 48.99861, 2.41551 48.99520, ...</td>\n",
       "    </tr>\n",
       "    <tr>\n",
       "      <th>34822</th>\n",
       "      <td>95682</td>\n",
       "      <td>POLYGON ((2.37541 49.06346, 2.36720 49.06835, ...</td>\n",
       "    </tr>\n",
       "    <tr>\n",
       "      <th>34823</th>\n",
       "      <td>95690</td>\n",
       "      <td>POLYGON ((1.82351 49.07627, 1.81530 49.07640, ...</td>\n",
       "    </tr>\n",
       "    <tr>\n",
       "      <th>34953</th>\n",
       "      <td>16233</td>\n",
       "      <td>POLYGON ((-0.05655 45.62071, -0.05391 45.62232...</td>\n",
       "    </tr>\n",
       "    <tr>\n",
       "      <th>34954</th>\n",
       "      <td>53249</td>\n",
       "      <td>POLYGON ((-0.27395 48.20148, -0.27858 48.20580...</td>\n",
       "    </tr>\n",
       "  </tbody>\n",
       "</table>\n",
       "</div>"
      ],
      "text/plain": [
       "      codgeo                                           geometry\n",
       "34821  95680  POLYGON ((2.41645 48.99861, 2.41551 48.99520, ...\n",
       "34822  95682  POLYGON ((2.37541 49.06346, 2.36720 49.06835, ...\n",
       "34823  95690  POLYGON ((1.82351 49.07627, 1.81530 49.07640, ...\n",
       "34953  16233  POLYGON ((-0.05655 45.62071, -0.05391 45.62232...\n",
       "34954  53249  POLYGON ((-0.27395 48.20148, -0.27858 48.20580..."
      ]
     },
     "execution_count": 7,
     "metadata": {},
     "output_type": "execute_result"
    }
   ],
   "source": [
    "leger = leger[[\"codgeo\", \"geometry\"]]\n",
    "leger.tail()"
   ]
  },
  {
   "cell_type": "markdown",
   "id": "c4139354-6e8f-42b5-90ee-2869fdf80f2b",
   "metadata": {},
   "source": [
    "On convertit la base de données des lycées en geopandas pour que la géométrie soit facilement utilisable"
   ]
  },
  {
   "cell_type": "code",
   "execution_count": 8,
   "id": "aa201364-166c-4c74-8093-badecaaab382",
   "metadata": {
    "tags": []
   },
   "outputs": [
    {
     "name": "stdout",
     "output_type": "stream",
     "text": [
      "<class 'geopandas.geodataframe.GeoDataFrame'>\n",
      "RangeIndex: 4396 entries, 0 to 4395\n",
      "Data columns (total 29 columns):\n",
      " #   Column                                                         Non-Null Count  Dtype   \n",
      "---  ------                                                         --------------  -----   \n",
      " 0   Identifiant_de_l_etablissement                                 4396 non-null   object  \n",
      " 1   Informations établissement_Académie                            4396 non-null   object  \n",
      " 2   Informations établissement_Département                         4396 non-null   object  \n",
      " 3   Informations établissement_Etablissement                       4396 non-null   object  \n",
      " 4   Informations établissement_Ville                               4396 non-null   object  \n",
      " 5   Code_commune                                                   4396 non-null   object  \n",
      " 6   Informations établissement_Secteur                             4396 non-null   object  \n",
      " 7   Nombre d'élèves présents au Bac_GNLE                           2204 non-null   float64 \n",
      " 8   Taux de réussite bruts_GNLE                                    2204 non-null   float64 \n",
      " 9   Valeur ajoutée du taux de réussite_GNLE                        2190 non-null   float64 \n",
      " 10  Nombre d'élèves présents au Bac_Somme Techno                   1847 non-null   float64 \n",
      " 11  Taux de réussite bruts_Taux brut techno                        1847 non-null   float64 \n",
      " 12  Valeur ajoutée du taux de réussite_Valeur ajoutée techno       1789 non-null   float64 \n",
      " 13  Nombre d'élèves présents au Bac_TOTAL_LGT                      2355 non-null   float64 \n",
      " 14  Taux de réussite bruts_TOTAL_LGT                               2355 non-null   float64 \n",
      " 15  Valeur ajoutée du taux de réussite_TOTAL_LGT                   2341 non-null   float64 \n",
      " 16  Nombre d'élèves présents au Bac_TOTAL_Pro                      2041 non-null   float64 \n",
      " 17  Taux de réussite bruts_TOTAL_Pro                               2041 non-null   float64 \n",
      " 18  Valeur ajoutée du taux de réussite_TOTAL_Pro                   2041 non-null   object  \n",
      " 19  Nbre de ménages fiscaux_NBMEN19                                4313 non-null   float64 \n",
      " 20  Nbre de personnes dans les ménages fiscaux_NBPERS19            4313 non-null   float64 \n",
      " 21  Nbre d'unités de consommation dans les ménages fiscaux_NBUC19  4313 non-null   float64 \n",
      " 22  Médiane (€)_Q219                                               4313 non-null   float64 \n",
      " 23  coordonnee_X                                                   4396 non-null   float64 \n",
      " 24  coordonnee_Y                                                   4396 non-null   float64 \n",
      " 25  epsg                                                           4396 non-null   object  \n",
      " 26  latitude                                                       4396 non-null   float64 \n",
      " 27  longitude                                                      4396 non-null   float64 \n",
      " 28  geometry                                                       4396 non-null   geometry\n",
      "dtypes: float64(19), geometry(1), object(9)\n",
      "memory usage: 996.1+ KB\n"
     ]
    }
   ],
   "source": [
    "\n",
    "gdf = gpd.GeoDataFrame(\n",
    "    df, geometry=gpd.points_from_xy(df.longitude, df.latitude))\n",
    "gdf.info()"
   ]
  },
  {
   "cell_type": "markdown",
   "id": "3354aa71-5583-4c17-86be-a13b402be96d",
   "metadata": {},
   "source": [
    "on reprend le fichier des communes pour les données de revenu pour ne pas avoir que celles qui ont un lycée. Ceci est intéressant car les élèves des communes autour d'un lycée vont souvent dans ce lycée (les données de carte scolaire ne sont hélas pas disponibles pour les lycées). "
   ]
  },
  {
   "cell_type": "code",
   "execution_count": 9,
   "id": "255fec76-cb96-4a85-a1f5-8973161b628a",
   "metadata": {
    "tags": []
   },
   "outputs": [],
   "source": [
    "df_communes = pd.read_excel(\"FILO2019_DEC_COM.xlsx\", sheet_name = 1, header=[4,5])\n",
    "df_com = df_communes.copy()\n",
    "df_com = df_com.drop(['PMIMP19', 'Q119', 'Q319','Q3_Q1','D119', 'D219', 'D319', 'D419', 'D619', 'D719', 'D819', 'D919', 'RD', 'S80S2019', 'GI19', 'PACT19', 'PTSA19', 'PCHO19', 'PBEN19', 'PPEN19', 'PAUT19'], axis = 1, level = 1 )\n",
    "df_com.columns = df_com.columns.map('_'.join).str.strip('_') \n"
   ]
  },
  {
   "cell_type": "markdown",
   "id": "ce09d4de-141f-4646-b073-799431a1c72b",
   "metadata": {},
   "source": [
    "le code caché permet de récupérer les contours des communes avec Cartiflette mais le fichier qui en résulte est trop lourd"
   ]
  },
  {
   "cell_type": "code",
   "execution_count": 10,
   "id": "974afeab-b8f0-404d-bb34-19a40f44b2c5",
   "metadata": {
    "jupyter": {
     "source_hidden": true
    },
    "tags": []
   },
   "outputs": [],
   "source": [
    "#communes de france métropolitaine et d'outre mer\n",
    "#c'est beaucoup trop lourd\n",
    "#liste= [\"11\", \"24\", \"28\", \"27\", \"32\", \"44\", \"52\", \"53\", \"75\", \"76\", \"84\", \"93\", \"94\", \"01\", \"02\", \"03\", \"04\"]\n",
    "\n",
    "#fr = cartiflette.s3.download_vectorfile_url_all(\n",
    "   # values = liste,\n",
    "   # level=\"COMMUNE\",\n",
    "   # vectorfile_format=\"geojson\",\n",
    "   # decoupage=\"region\",\n",
    "   # year=2022)\n",
    "#ax = fr.plot()\n",
    "#ax.set_axis_off()"
   ]
  },
  {
   "cell_type": "code",
   "execution_count": 11,
   "id": "dc275c54-b1b4-456b-856b-0fcd73295ebc",
   "metadata": {
    "jupyter": {
     "source_hidden": true
    },
    "tags": []
   },
   "outputs": [],
   "source": [
    "#si on veut les arrondissements\n",
    "#regions = cartiflette.s3.download_vectorfile_url_all(\n",
    "    #values = [\"75\", \"92\", \"93\", \"94\"],\n",
    "    #level=\"COMMUNE_ARRONDISSEMENT\",\n",
    "    #vectorfile_format=\"geojson\",\n",
    "    #decoupage=\"departement\",\n",
    "    #year=2022)\n",
    "#ax = regions.plot()\n",
    "#ax.set_axis_off()\n"
   ]
  },
  {
   "cell_type": "code",
   "execution_count": 12,
   "id": "e6d50c08-d801-4086-b60e-278698a4aa0b",
   "metadata": {
    "jupyter": {
     "source_hidden": true
    },
    "tags": []
   },
   "outputs": [],
   "source": [
    "#fr= fr.drop([\"NOM\", \"NOM_M\", \"STATUT\", \"POPULATION\", \"INSEE_CAN\", \"INSEE_ARR\", \"INSEE_DEP\"], axis= 1)\n",
    "#fr= fr.drop( \"SIREN_EPCI\", axis = 1)\n",
    "#fr"
   ]
  },
  {
   "cell_type": "code",
   "execution_count": 13,
   "id": "79bb0148-e98a-4857-b9db-a8ec77167cb8",
   "metadata": {
    "jupyter": {
     "source_hidden": true
    },
    "tags": []
   },
   "outputs": [],
   "source": [
    "#convertir le fichier pour que ça prenne le bon identifiant\n",
    "#fr_json_with_id = fr.set_index(keys = \"INSEE_COM\").to_json()"
   ]
  },
  {
   "cell_type": "markdown",
   "id": "a4434f8e-3ac3-493f-a6da-986ebb5cca4c",
   "metadata": {},
   "source": [
    "On convertit le fichier pour que Chorropleth prenne le bon identifiant "
   ]
  },
  {
   "cell_type": "code",
   "execution_count": 14,
   "id": "03b30fd3-0916-49db-9e72-dab3b02c7304",
   "metadata": {},
   "outputs": [],
   "source": [
    "leger_json_with_id = leger.set_index(keys = \"codgeo\").to_json()"
   ]
  },
  {
   "cell_type": "markdown",
   "id": "a7f84bb8-f681-4782-a222-71342ef01638",
   "metadata": {},
   "source": [
    "## II-Utilisation de folium pour générer des cartes intéractives"
   ]
  },
  {
   "cell_type": "markdown",
   "id": "2f10ebec-8911-45da-bd3c-8447e15e5eea",
   "metadata": {},
   "source": [
    "Cette fonction rajoute une couche où la couleur de chaque commune dépend du niveau de revenu médian (l'opération est répétée régulièrement d'où l'utilité de faire une fonction)"
   ]
  },
  {
   "cell_type": "code",
   "execution_count": 15,
   "id": "a207de70-3043-4389-8bba-0eb80965d796",
   "metadata": {},
   "outputs": [],
   "source": [
    "\n",
    "def choro(m):\n",
    "    folium.Choropleth(\n",
    "        geo_data=leger_json_with_id,\n",
    "        name=\"choropleth\",\n",
    "        data=df_com,\n",
    "        columns=[\"Code géographique_CODGEO\", \"Médiane (€)_Q219\"],\n",
    "        key_on= \"feature.id\",\n",
    "        fill_color=\"BuPu\",\n",
    "        fill_opacity=0.7,\n",
    "        line_opacity=.1,\n",
    "        legend_name=\"Médiane (€)_Q219\",\n",
    "        prefer_canvas = True\n",
    "    ).add_to(m)\n",
    "    folium.LayerControl().add_to(m)\n",
    "    \n"
   ]
  },
  {
   "cell_type": "markdown",
   "id": "99f96ae6-90bc-404d-9882-60fb234fc781",
   "metadata": {},
   "source": [
    "#### a) Carte séparant les lycées professionels des autres ####"
   ]
  },
  {
   "cell_type": "markdown",
   "id": "b4ecf9d3-c436-4a9a-b1b6-e5a3b177b287",
   "metadata": {},
   "source": [
    "On utilise un fond de carte standard et on choisit arbitrairement de centrer initialement la carte intéractive sur la région parisienne.\n"
   ]
  },
  {
   "cell_type": "code",
   "execution_count": 16,
   "id": "935f788a-c896-496a-8715-b32f9e755bea",
   "metadata": {},
   "outputs": [],
   "source": [
    "map_1 = folium.Map(location=[48.8, 2.19], zoom_start=9, control_scale= True, prefer_canvas = True) \n",
    "#prefer_canvas accélère l'utilisation de la carte"
   ]
  },
  {
   "cell_type": "markdown",
   "id": "8914aea3-be33-48c2-8aee-360c914e5743",
   "metadata": {},
   "source": [
    "On rajoute la couche des communes colorées par revenus "
   ]
  },
  {
   "cell_type": "code",
   "execution_count": 17,
   "id": "3cfb46f1-d506-49a0-8e76-30ec673db08f",
   "metadata": {
    "tags": []
   },
   "outputs": [],
   "source": [
    "choro(map_1)"
   ]
  },
  {
   "cell_type": "markdown",
   "id": "c7646073-5f5d-4c9a-a7b8-06689b0e3340",
   "metadata": {},
   "source": [
    "On rajoute des marqueurs pour chaque lycée, en séparant par couleur entre les lycées généraux et technologiques et les lycées professionnels\n",
    "On rajoute un popup qui donne le nom du lycée et les taux de réussite au bac"
   ]
  },
  {
   "cell_type": "code",
   "execution_count": 18,
   "id": "f6d35dcc-79cc-44a4-872d-3cea84a18992",
   "metadata": {
    "tags": []
   },
   "outputs": [],
   "source": [
    "#on pourrait en faire une fonction mais compliqué car change beaucoup\n",
    "# Create a geometry list from the GeoDataFrame\n",
    "gdf_list = [[point.xy[1][0], point.xy[0][0]] for point in gdf.geometry] #pourrait faire cette opération qu'une fois pour toutes les cartes\n",
    "\n",
    "\n",
    "# Iterate through list and add a marker for lycée, color-coded by its type.\n",
    "i = 0\n",
    "for coordinates in gdf_list:\n",
    "    # assigner une couleur de marqueur selon le type de lycée\n",
    "    if gdf[\"Nombre d'élèves présents au Bac_TOTAL_LGT\"][i] > 0.5:\n",
    "     #général et techno (on pourrait séparer en général et techno si on veut)\n",
    "        html=f\"\"\"\n",
    "        <h5> {gdf[\"Informations établissement_Etablissement\"][i]}</h5>\n",
    "        <p>Taux de réussite global: {gdf[\"Taux de réussite bruts_TOTAL_LGT\"][i]} </p>\n",
    "        <ul>\n",
    "            <li>Taux de réussite filières générales: {gdf[\"Taux de réussite bruts_GNLE\"][i]}</li>\n",
    "            <li>Taux de réussite filières techno: {gdf[\"Taux de réussite bruts_Taux brut techno\"][i]}</li>\n",
    "        </ul>\n",
    "        \"\"\"\n",
    "        iframe = folium.IFrame(html=html, width=200, height=200)\n",
    "      \n",
    "        map_1.add_child(\n",
    "            folium.Marker(\n",
    "                location=coordinates,\n",
    "                popup= folium.Popup(iframe, max_width=2650),\n",
    "                icon=folium.Icon(color=\"green\"),\n",
    "            )\n",
    "        )\n",
    "    else:\n",
    "     #pro\n",
    "        html=f\"\"\"\n",
    "        <h5> {gdf[\"Informations établissement_Etablissement\"][i]}</h5>\n",
    "        <p>Taux de réussite global: {gdf[\"Taux de réussite bruts_TOTAL_Pro\"][i]} </p>\n",
    "        \"\"\"\n",
    "        iframe = folium.IFrame(html=html, width=200, height=125)\n",
    "        map_1.add_child(\n",
    "            folium.Marker(\n",
    "                location=coordinates,\n",
    "                popup=folium.Popup(iframe, max_width=2650) ,\n",
    "                icon=folium.Icon(color=\"red\"),\n",
    "            )\n",
    "        )\n",
    " # je n'ai mis que le nom de l'établissement et le taux de réussite pour l'instant mais on peut rajouter d'autres données facilement\n",
    "    \n",
    "    i = i + 1"
   ]
  },
  {
   "cell_type": "markdown",
   "id": "89a401cf-2228-43d3-8c6a-646fc0bb0800",
   "metadata": {},
   "source": [
    "Cette cellule permet d'afficher la carte (mais on évite car elle est lourde et que cela fait facilement bugger le notebook)"
   ]
  },
  {
   "cell_type": "code",
   "execution_count": 19,
   "id": "ea1fbe61-0fb8-4855-8214-73335dcbecd3",
   "metadata": {
    "tags": []
   },
   "outputs": [],
   "source": [
    "#map"
   ]
  },
  {
   "cell_type": "markdown",
   "id": "55f87fd3-2f54-4014-9698-33832523e646",
   "metadata": {},
   "source": [
    "On enregistre la carte"
   ]
  },
  {
   "cell_type": "code",
   "execution_count": 20,
   "id": "c91a9e0c-8b57-47cc-9781-bef720227f63",
   "metadata": {},
   "outputs": [],
   "source": [
    "map_1.save(outfile ='carte_sans_outre_mer.html') #il reste les marqueurs des lycées d'outre mer mais on peut facilement les enlever si on veut"
   ]
  },
  {
   "cell_type": "markdown",
   "id": "42096a1d-f3f0-4483-b372-12c08bb85b32",
   "metadata": {},
   "source": [
    "On a un certain problème de poids lié principalement au choropleth (le fond de carte seul fait quelques ko et les marqueurs+fond 6Mo, la carte totale en fait quasiment 60...)"
   ]
  },
  {
   "cell_type": "markdown",
   "id": "3e7c49ab-83da-4ca9-8679-8b26d0afd712",
   "metadata": {},
   "source": [
    "#### b) Carte séparant les lycées publics des lycées privés ####"
   ]
  },
  {
   "cell_type": "markdown",
   "id": "4f6468c8-12a7-45d5-878c-0134e057a91a",
   "metadata": {},
   "source": [
    "On génère à nouveau une carte avec juste un fond centrée sur la région parisienne"
   ]
  },
  {
   "cell_type": "code",
   "execution_count": 21,
   "id": "a3c61f1f-648a-4dc9-b998-fb5296d3799a",
   "metadata": {},
   "outputs": [],
   "source": [
    "map_2 = folium.Map(location=[48.8, 2.19], zoom_start=9, control_scale= True, prefer_canvas = True) \n",
    "#prefer_canvas accélère l'utilisation de la carte"
   ]
  },
  {
   "cell_type": "markdown",
   "id": "2652d96d-023a-408b-b124-7e56f5d46c5e",
   "metadata": {},
   "source": [
    "On rajoute le choropleth par revenu des communes"
   ]
  },
  {
   "cell_type": "code",
   "execution_count": 22,
   "id": "f0a5bd13-de5d-4aba-ab66-be1784ab6b99",
   "metadata": {},
   "outputs": [],
   "source": [
    "choro(map_2)"
   ]
  },
  {
   "cell_type": "markdown",
   "id": "6ceccc88-8fef-42cb-80ed-ea2145ec2f31",
   "metadata": {},
   "source": [
    "On rajoute les marqueurs pour les lycées en différentiant cette fois-ci en plus selon si le lycée est privé ou public (couleur foncée ou claire)"
   ]
  },
  {
   "cell_type": "code",
   "execution_count": 23,
   "id": "6e1afd3a-d52c-4a87-89c8-8ed05ebcee7c",
   "metadata": {
    "tags": []
   },
   "outputs": [],
   "source": [
    "# Create a geometry list from the GeoDataFrame\n",
    "gdf_list = [[point.xy[1][0], point.xy[0][0]] for point in gdf.geometry]\n",
    "\n",
    "\n",
    "# Iterate through list and add a marker for lycée, color-coded by its type.\n",
    "i = 0\n",
    "for coordinates in gdf_list:\n",
    "    # assigner une couleur de marqueur selon le type de lycée\n",
    "    if gdf[\"Nombre d'élèves présents au Bac_TOTAL_LGT\"][i] > 0.5:\n",
    "     #général et techno (on pourrait séparer en général et techno si on veut)\n",
    "        html=f\"\"\"\n",
    "        <h5> {gdf[\"Informations établissement_Etablissement\"][i]}</h5>\n",
    "        <p>Taux de réussite global: {gdf[\"Taux de réussite bruts_TOTAL_LGT\"][i]} </p>\n",
    "        <ul>\n",
    "            <li>Taux de réussite filières générales: {gdf[\"Taux de réussite bruts_GNLE\"][i]}</li>\n",
    "            <li>Taux de réussite filières techno: {gdf[\"Taux de réussite bruts_Taux brut techno\"][i]}</li>\n",
    "        </ul>\n",
    "        \"\"\"\n",
    "        iframe = folium.IFrame(html=html, width=200, height=200)\n",
    "        if gdf[\"Informations établissement_Secteur\"][i] == \"PU\":\n",
    "            icon_color =\"lightgreen\"\n",
    "        elif gdf[\"Informations établissement_Secteur\"][i] == \"PR\":\n",
    "            icon_color =\"darkgreen\"\n",
    "      \n",
    "        map_2.add_child(\n",
    "            folium.Marker(\n",
    "                location=coordinates,\n",
    "                popup= folium.Popup(iframe, max_width=2650),\n",
    "                icon=folium.Icon(color=icon_color),\n",
    "            )\n",
    "        )\n",
    "    else:\n",
    "     #pro\n",
    "        html=f\"\"\"\n",
    "        <h5> {gdf[\"Informations établissement_Etablissement\"][i]}</h5>\n",
    "        <p>Taux de réussite global: {gdf[\"Taux de réussite bruts_TOTAL_Pro\"][i]} </p>\n",
    "        \"\"\"\n",
    "        iframe = folium.IFrame(html=html, width=200, height=125)\n",
    "        if gdf[\"Informations établissement_Secteur\"][i] == \"PU\":\n",
    "            icon_color =\"lightred\"\n",
    "        elif gdf[\"Informations établissement_Secteur\"][i] == \"PR\":\n",
    "            icon_color =\"darkred\"\n",
    "        map_2.add_child(\n",
    "            folium.Marker(\n",
    "                location=coordinates,\n",
    "                popup=folium.Popup(iframe, max_width=2650) ,\n",
    "                icon=folium.Icon(color=icon_color),\n",
    "            )\n",
    "        )\n",
    " # je n'ai mis que le nom de l'établissement et le taux de réussite pour l'instant mais on peut rajouter d'autres données facilement\n",
    "    \n",
    "    i = i + 1\n",
    "#il faudrait légender la différence public/privé quelque part"
   ]
  },
  {
   "cell_type": "markdown",
   "id": "3619887b-434b-4f46-b443-d01c6a76e70a",
   "metadata": {},
   "source": [
    "On enregistre la carte"
   ]
  },
  {
   "cell_type": "code",
   "execution_count": 24,
   "id": "39d485ab-d1ed-4a33-9504-604870a1a043",
   "metadata": {},
   "outputs": [],
   "source": [
    "map_2.save(outfile ='carte_public_prive.html') "
   ]
  },
  {
   "cell_type": "markdown",
   "id": "567fc3a9-ffd1-4c41-bcce-34d514812e0d",
   "metadata": {},
   "source": [
    "#### c) Carte séparant les lycées selon les quantiles de taux de réussite au bac ####"
   ]
  },
  {
   "cell_type": "markdown",
   "id": "d8aafab9-a2b0-42e3-97b8-6a60e4785ba5",
   "metadata": {},
   "source": [
    "Comme précédement on génère une carte avec un choropleth des revenus médians des communes"
   ]
  },
  {
   "cell_type": "code",
   "execution_count": 25,
   "id": "735f3860-6ce2-4695-93c4-bd0af081dd07",
   "metadata": {},
   "outputs": [],
   "source": [
    "map_3 = folium.Map(location=[48.8, 2.19], zoom_start=9, control_scale= True, prefer_canvas = True) \n",
    "choro(map_3)"
   ]
  },
  {
   "cell_type": "markdown",
   "id": "32c8efb8-066c-4931-9fcc-f73e996ab603",
   "metadata": {},
   "source": [
    "On reprend les quantiles vus dans les statistiques descriptives"
   ]
  },
  {
   "cell_type": "code",
   "execution_count": 26,
   "id": "a72807e1-650c-4f7b-89a9-840e54e7935d",
   "metadata": {},
   "outputs": [
    {
     "data": {
      "text/plain": [
       "0.25     96.0\n",
       "0.50     98.0\n",
       "0.75    100.0\n",
       "Name: Taux de réussite bruts_TOTAL_LGT, dtype: float64"
      ]
     },
     "execution_count": 26,
     "metadata": {},
     "output_type": "execute_result"
    }
   ],
   "source": [
    "gdf[\"Taux de réussite bruts_TOTAL_LGT\"].quantile(q= [0.25, 0.5, 0.75])"
   ]
  },
  {
   "cell_type": "code",
   "execution_count": 27,
   "id": "b5ef9f92-7899-4285-81e4-8655bba6d44a",
   "metadata": {},
   "outputs": [
    {
     "data": {
      "text/plain": [
       "0.25    81.0\n",
       "0.50    88.0\n",
       "0.75    94.0\n",
       "Name: Taux de réussite bruts_TOTAL_Pro, dtype: float64"
      ]
     },
     "execution_count": 27,
     "metadata": {},
     "output_type": "execute_result"
    }
   ],
   "source": [
    "gdf[\"Taux de réussite bruts_TOTAL_Pro\"].quantile(q = [0.25, 0.5, 0.75])"
   ]
  },
  {
   "cell_type": "markdown",
   "id": "453d2709-4366-4531-b24e-6fdbbe271aa9",
   "metadata": {},
   "source": [
    "On rajoute des marqueurs en séparant par quantiles de taux de réussite au bac (3 couleurs différentes par type de lycée)"
   ]
  },
  {
   "cell_type": "code",
   "execution_count": 28,
   "id": "08c97aea-e92f-43fd-83ef-c01c3f6f55ec",
   "metadata": {},
   "outputs": [],
   "source": [
    "# Create a geometry list from the GeoDataFrame\n",
    "gdf_list = [[point.xy[1][0], point.xy[0][0]] for point in gdf.geometry]\n",
    "# Iterate through list and add a marker for lycée, color-coded by its type.\n",
    "i = 0\n",
    "for coordinates in gdf_list:\n",
    "    # assigner une couleur de marqueur selon le type de lycée\n",
    "    if gdf[\"Nombre d'élèves présents au Bac_TOTAL_LGT\"][i] > 0.5:\n",
    "     #général et techno (on pourrait séparer en général et techno si on veut)\n",
    "        html=f\"\"\"\n",
    "        <h5> {gdf[\"Informations établissement_Etablissement\"][i]}</h5>\n",
    "        <p>Taux de réussite global: {gdf[\"Taux de réussite bruts_TOTAL_LGT\"][i]} </p>\n",
    "        <ul>\n",
    "            <li>Taux de réussite filières générales: {gdf[\"Taux de réussite bruts_GNLE\"][i]}</li>\n",
    "            <li>Taux de réussite filières techno: {gdf[\"Taux de réussite bruts_Taux brut techno\"][i]}</li>\n",
    "        </ul>\n",
    "        \"\"\"\n",
    "        iframe = folium.IFrame(html=html, width=200, height=200)\n",
    "        if gdf[\"Taux de réussite bruts_TOTAL_LGT\"][i] < gdf[\"Taux de réussite bruts_TOTAL_LGT\"].quantile(0.25):\n",
    "            icon_color =\"lightgreen\"\n",
    "        elif gdf[\"Taux de réussite bruts_TOTAL_LGT\"][i] < gdf[\"Taux de réussite bruts_TOTAL_LGT\"].quantile(0.5):\n",
    "            icon_color =\"green\"\n",
    "        else:\n",
    "            icon_color = \"darkgreen\" \n",
    "        # choix des quantiles lié stats desc\n",
    "      \n",
    "        map_3.add_child(\n",
    "            folium.Marker(\n",
    "                location=coordinates,\n",
    "                popup= folium.Popup(iframe, max_width=2650),\n",
    "                icon=folium.Icon(color=icon_color),\n",
    "            )\n",
    "        )\n",
    "    else:\n",
    "     #pro\n",
    "        html=f\"\"\"\n",
    "        <h5> {gdf[\"Informations établissement_Etablissement\"][i]}</h5>\n",
    "        <p>Taux de réussite global: {gdf[\"Taux de réussite bruts_TOTAL_Pro\"][i]} </p>\n",
    "        \"\"\"\n",
    "        iframe = folium.IFrame(html=html, width=200, height=125)\n",
    "        if gdf[\"Taux de réussite bruts_TOTAL_Pro\"][i] < gdf[\"Taux de réussite bruts_TOTAL_Pro\"].quantile(0.25):\n",
    "            icon_color =\"lightred\"\n",
    "        elif gdf[\"Taux de réussite bruts_TOTAL_Pro\"][i] < gdf[\"Taux de réussite bruts_TOTAL_Pro\"].quantile(0.5):\n",
    "            icon_color =\"red\"\n",
    "        else:\n",
    "            icon_color = \"darkred\"\n",
    "        #ici serait pertinent d'en avoir quatre différent car stats plus dispersées...\n",
    "        map_3.add_child(\n",
    "            folium.Marker(\n",
    "                location=coordinates,\n",
    "                popup=folium.Popup(iframe, max_width=2650) ,\n",
    "                icon=folium.Icon(color=icon_color),\n",
    "            )\n",
    "        )\n",
    " # je n'ai mis que le nom de l'établissement et le taux de réussite pour l'instant mais on peut rajouter d'autres données facilement\n",
    "    \n",
    "    i = i + 1"
   ]
  },
  {
   "cell_type": "markdown",
   "id": "26eb25fa-e0fd-4e3e-b91a-9fe862b17eb7",
   "metadata": {},
   "source": [
    "On enregistre le fichier"
   ]
  },
  {
   "cell_type": "code",
   "execution_count": 29,
   "id": "fa815ea2-b8db-4bd7-b34c-0942a8757277",
   "metadata": {},
   "outputs": [],
   "source": [
    "map_3.save(outfile ='carte_taux_reussite.html')"
   ]
  }
 ],
 "metadata": {
  "kernelspec": {
   "display_name": "Python 3 (ipykernel)",
   "language": "python",
   "name": "python3"
  },
  "language_info": {
   "codemirror_mode": {
    "name": "ipython",
    "version": 3
   },
   "file_extension": ".py",
   "mimetype": "text/x-python",
   "name": "python",
   "nbconvert_exporter": "python",
   "pygments_lexer": "ipython3",
   "version": "3.10.4"
  }
 },
 "nbformat": 4,
 "nbformat_minor": 5
}
